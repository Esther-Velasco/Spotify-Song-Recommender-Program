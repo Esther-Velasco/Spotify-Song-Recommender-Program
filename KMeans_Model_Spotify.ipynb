{
 "cells": [
  {
   "cell_type": "code",
   "execution_count": 1,
   "metadata": {},
   "outputs": [
    {
     "name": "stdout",
     "output_type": "stream",
     "text": [
      "Defaulting to user installation because normal site-packages is not writeable\n",
      "Requirement already satisfied: numpy in /Users/esthervelasco/Library/Python/3.9/lib/python/site-packages (1.26.2)\n",
      "\u001b[33mWARNING: You are using pip version 21.2.4; however, version 23.3.1 is available.\n",
      "You should consider upgrading via the '/Library/Developer/CommandLineTools/usr/bin/python3 -m pip install --upgrade pip' command.\u001b[0m\n",
      "Note: you may need to restart the kernel to use updated packages.\n"
     ]
    }
   ],
   "source": [
    "pip install numpy"
   ]
  },
  {
   "cell_type": "code",
   "execution_count": 2,
   "metadata": {},
   "outputs": [
    {
     "name": "stdout",
     "output_type": "stream",
     "text": [
      "Defaulting to user installation because normal site-packages is not writeable\n",
      "Requirement already satisfied: pandas in /Users/esthervelasco/Library/Python/3.9/lib/python/site-packages (2.1.3)\n",
      "Requirement already satisfied: numpy<2,>=1.22.4 in /Users/esthervelasco/Library/Python/3.9/lib/python/site-packages (from pandas) (1.26.2)\n",
      "Requirement already satisfied: python-dateutil>=2.8.2 in /Users/esthervelasco/Library/Python/3.9/lib/python/site-packages (from pandas) (2.8.2)\n",
      "Requirement already satisfied: tzdata>=2022.1 in /Users/esthervelasco/Library/Python/3.9/lib/python/site-packages (from pandas) (2023.3)\n",
      "Requirement already satisfied: pytz>=2020.1 in /Users/esthervelasco/Library/Python/3.9/lib/python/site-packages (from pandas) (2023.3.post1)\n",
      "Requirement already satisfied: six>=1.5 in /Library/Developer/CommandLineTools/Library/Frameworks/Python3.framework/Versions/3.9/lib/python3.9/site-packages (from python-dateutil>=2.8.2->pandas) (1.15.0)\n",
      "\u001b[33mWARNING: You are using pip version 21.2.4; however, version 23.3.1 is available.\n",
      "You should consider upgrading via the '/Library/Developer/CommandLineTools/usr/bin/python3 -m pip install --upgrade pip' command.\u001b[0m\n",
      "Note: you may need to restart the kernel to use updated packages.\n"
     ]
    }
   ],
   "source": [
    "pip install pandas"
   ]
  },
  {
   "cell_type": "code",
   "execution_count": 3,
   "metadata": {},
   "outputs": [
    {
     "name": "stdout",
     "output_type": "stream",
     "text": [
      "Defaulting to user installation because normal site-packages is not writeable\n",
      "Requirement already satisfied: scikit-learn in /Users/esthervelasco/Library/Python/3.9/lib/python/site-packages (1.3.2)\n",
      "Requirement already satisfied: scipy in /Users/esthervelasco/Library/Python/3.9/lib/python/site-packages (1.11.4)\n",
      "Requirement already satisfied: matplotlib in /Users/esthervelasco/Library/Python/3.9/lib/python/site-packages (3.8.2)\n",
      "Requirement already satisfied: numpy<2.0,>=1.17.3 in /Users/esthervelasco/Library/Python/3.9/lib/python/site-packages (from scikit-learn) (1.26.2)\n",
      "Requirement already satisfied: threadpoolctl>=2.0.0 in /Users/esthervelasco/Library/Python/3.9/lib/python/site-packages (from scikit-learn) (3.2.0)\n",
      "Requirement already satisfied: joblib>=1.1.1 in /Users/esthervelasco/Library/Python/3.9/lib/python/site-packages (from scikit-learn) (1.3.2)\n",
      "Requirement already satisfied: contourpy>=1.0.1 in /Users/esthervelasco/Library/Python/3.9/lib/python/site-packages (from matplotlib) (1.2.0)\n",
      "Requirement already satisfied: cycler>=0.10 in /Users/esthervelasco/Library/Python/3.9/lib/python/site-packages (from matplotlib) (0.12.1)\n",
      "Requirement already satisfied: pillow>=8 in /Users/esthervelasco/Library/Python/3.9/lib/python/site-packages (from matplotlib) (10.1.0)\n",
      "Requirement already satisfied: python-dateutil>=2.7 in /Users/esthervelasco/Library/Python/3.9/lib/python/site-packages (from matplotlib) (2.8.2)\n",
      "Requirement already satisfied: kiwisolver>=1.3.1 in /Users/esthervelasco/Library/Python/3.9/lib/python/site-packages (from matplotlib) (1.4.5)\n",
      "Requirement already satisfied: packaging>=20.0 in /Users/esthervelasco/Library/Python/3.9/lib/python/site-packages (from matplotlib) (23.1)\n",
      "Requirement already satisfied: pyparsing>=2.3.1 in /Users/esthervelasco/Library/Python/3.9/lib/python/site-packages (from matplotlib) (3.1.1)\n",
      "Requirement already satisfied: fonttools>=4.22.0 in /Users/esthervelasco/Library/Python/3.9/lib/python/site-packages (from matplotlib) (4.45.1)\n",
      "Requirement already satisfied: importlib-resources>=3.2.0 in /Users/esthervelasco/Library/Python/3.9/lib/python/site-packages (from matplotlib) (6.1.1)\n",
      "Requirement already satisfied: zipp>=3.1.0 in /Users/esthervelasco/Library/Python/3.9/lib/python/site-packages (from importlib-resources>=3.2.0->matplotlib) (3.17.0)\n",
      "Requirement already satisfied: six>=1.5 in /Library/Developer/CommandLineTools/Library/Frameworks/Python3.framework/Versions/3.9/lib/python3.9/site-packages (from python-dateutil>=2.7->matplotlib) (1.15.0)\n",
      "\u001b[33mWARNING: You are using pip version 21.2.4; however, version 23.3.1 is available.\n",
      "You should consider upgrading via the '/Library/Developer/CommandLineTools/usr/bin/python3 -m pip install --upgrade pip' command.\u001b[0m\n",
      "Note: you may need to restart the kernel to use updated packages.\n"
     ]
    }
   ],
   "source": [
    "pip install -U scikit-learn scipy matplotlib\n"
   ]
  },
  {
   "cell_type": "code",
   "execution_count": 4,
   "metadata": {},
   "outputs": [
    {
     "name": "stdout",
     "output_type": "stream",
     "text": [
      "Defaulting to user installation because normal site-packages is not writeable\n",
      "Requirement already satisfied: matplotlib in /Users/esthervelasco/Library/Python/3.9/lib/python/site-packages (3.8.2)\n",
      "Requirement already satisfied: contourpy>=1.0.1 in /Users/esthervelasco/Library/Python/3.9/lib/python/site-packages (from matplotlib) (1.2.0)\n",
      "Requirement already satisfied: kiwisolver>=1.3.1 in /Users/esthervelasco/Library/Python/3.9/lib/python/site-packages (from matplotlib) (1.4.5)\n",
      "Requirement already satisfied: importlib-resources>=3.2.0 in /Users/esthervelasco/Library/Python/3.9/lib/python/site-packages (from matplotlib) (6.1.1)\n",
      "Requirement already satisfied: numpy<2,>=1.21 in /Users/esthervelasco/Library/Python/3.9/lib/python/site-packages (from matplotlib) (1.26.2)\n",
      "Requirement already satisfied: fonttools>=4.22.0 in /Users/esthervelasco/Library/Python/3.9/lib/python/site-packages (from matplotlib) (4.45.1)\n",
      "Requirement already satisfied: cycler>=0.10 in /Users/esthervelasco/Library/Python/3.9/lib/python/site-packages (from matplotlib) (0.12.1)\n",
      "Requirement already satisfied: pillow>=8 in /Users/esthervelasco/Library/Python/3.9/lib/python/site-packages (from matplotlib) (10.1.0)\n",
      "Requirement already satisfied: packaging>=20.0 in /Users/esthervelasco/Library/Python/3.9/lib/python/site-packages (from matplotlib) (23.1)\n",
      "Requirement already satisfied: pyparsing>=2.3.1 in /Users/esthervelasco/Library/Python/3.9/lib/python/site-packages (from matplotlib) (3.1.1)\n",
      "Requirement already satisfied: python-dateutil>=2.7 in /Users/esthervelasco/Library/Python/3.9/lib/python/site-packages (from matplotlib) (2.8.2)\n",
      "Requirement already satisfied: zipp>=3.1.0 in /Users/esthervelasco/Library/Python/3.9/lib/python/site-packages (from importlib-resources>=3.2.0->matplotlib) (3.17.0)\n",
      "Requirement already satisfied: six>=1.5 in /Library/Developer/CommandLineTools/Library/Frameworks/Python3.framework/Versions/3.9/lib/python3.9/site-packages (from python-dateutil>=2.7->matplotlib) (1.15.0)\n",
      "\u001b[33mWARNING: You are using pip version 21.2.4; however, version 23.3.1 is available.\n",
      "You should consider upgrading via the '/Library/Developer/CommandLineTools/usr/bin/python3 -m pip install --upgrade pip' command.\u001b[0m\n",
      "Note: you may need to restart the kernel to use updated packages.\n"
     ]
    }
   ],
   "source": [
    "pip install matplotlib\n"
   ]
  },
  {
   "cell_type": "markdown",
   "metadata": {},
   "source": [
    "# 1. Preparing my data\n",
    "## a. Upload libraries"
   ]
  },
  {
   "cell_type": "code",
   "execution_count": 5,
   "metadata": {},
   "outputs": [],
   "source": [
    "import numpy as np\n",
    "import pandas as pd\n",
    "import pickle\n",
    "from sklearn.preprocessing import StandardScaler\n",
    "from sklearn.cluster import KMeans\n",
    "import matplotlib.pyplot as plt\n",
    "from sklearn.metrics import silhouette_score"
   ]
  },
  {
   "cell_type": "markdown",
   "metadata": {},
   "source": [
    "## b. Upload dataframe with all song features gathered from many genres"
   ]
  },
  {
   "cell_type": "code",
   "execution_count": 6,
   "metadata": {},
   "outputs": [
    {
     "data": {
      "text/html": [
       "<div>\n",
       "<style scoped>\n",
       "    .dataframe tbody tr th:only-of-type {\n",
       "        vertical-align: middle;\n",
       "    }\n",
       "\n",
       "    .dataframe tbody tr th {\n",
       "        vertical-align: top;\n",
       "    }\n",
       "\n",
       "    .dataframe thead th {\n",
       "        text-align: right;\n",
       "    }\n",
       "</style>\n",
       "<table border=\"1\" class=\"dataframe\">\n",
       "  <thead>\n",
       "    <tr style=\"text-align: right;\">\n",
       "      <th></th>\n",
       "      <th>Unnamed: 0.1</th>\n",
       "      <th>Unnamed: 0</th>\n",
       "      <th>danceability</th>\n",
       "      <th>energy</th>\n",
       "      <th>key</th>\n",
       "      <th>loudness</th>\n",
       "      <th>mode</th>\n",
       "      <th>speechiness</th>\n",
       "      <th>acousticness</th>\n",
       "      <th>instrumentalness</th>\n",
       "      <th>...</th>\n",
       "      <th>valence</th>\n",
       "      <th>tempo</th>\n",
       "      <th>type</th>\n",
       "      <th>id</th>\n",
       "      <th>uri</th>\n",
       "      <th>track_href</th>\n",
       "      <th>analysis_url</th>\n",
       "      <th>duration_ms</th>\n",
       "      <th>time_signature</th>\n",
       "      <th>&lt;!DOCTYPE html&gt;</th>\n",
       "    </tr>\n",
       "  </thead>\n",
       "  <tbody>\n",
       "    <tr>\n",
       "      <th>0</th>\n",
       "      <td>0</td>\n",
       "      <td>0.0</td>\n",
       "      <td>0.666</td>\n",
       "      <td>0.400</td>\n",
       "      <td>9.0</td>\n",
       "      <td>-7.324</td>\n",
       "      <td>0.0</td>\n",
       "      <td>0.0328</td>\n",
       "      <td>0.7170</td>\n",
       "      <td>0.000334</td>\n",
       "      <td>...</td>\n",
       "      <td>0.395</td>\n",
       "      <td>98.781</td>\n",
       "      <td>audio_features</td>\n",
       "      <td>6I8EbSSjimK98wiDCMtnBQ</td>\n",
       "      <td>spotify:track:6I8EbSSjimK98wiDCMtnBQ</td>\n",
       "      <td>https://api.spotify.com/v1/tracks/6I8EbSSjimK9...</td>\n",
       "      <td>https://api.spotify.com/v1/audio-analysis/6I8E...</td>\n",
       "      <td>285507.0</td>\n",
       "      <td>3.0</td>\n",
       "      <td>NaN</td>\n",
       "    </tr>\n",
       "    <tr>\n",
       "      <th>1</th>\n",
       "      <td>1</td>\n",
       "      <td>1.0</td>\n",
       "      <td>0.488</td>\n",
       "      <td>0.449</td>\n",
       "      <td>7.0</td>\n",
       "      <td>-10.793</td>\n",
       "      <td>0.0</td>\n",
       "      <td>0.0438</td>\n",
       "      <td>0.0169</td>\n",
       "      <td>0.019000</td>\n",
       "      <td>...</td>\n",
       "      <td>0.569</td>\n",
       "      <td>141.897</td>\n",
       "      <td>audio_features</td>\n",
       "      <td>1WVh4LQBjRhooTIYmMpAu4</td>\n",
       "      <td>spotify:track:1WVh4LQBjRhooTIYmMpAu4</td>\n",
       "      <td>https://api.spotify.com/v1/tracks/1WVh4LQBjRho...</td>\n",
       "      <td>https://api.spotify.com/v1/audio-analysis/1WVh...</td>\n",
       "      <td>322027.0</td>\n",
       "      <td>3.0</td>\n",
       "      <td>NaN</td>\n",
       "    </tr>\n",
       "    <tr>\n",
       "      <th>2</th>\n",
       "      <td>2</td>\n",
       "      <td>2.0</td>\n",
       "      <td>0.487</td>\n",
       "      <td>0.538</td>\n",
       "      <td>5.0</td>\n",
       "      <td>-7.429</td>\n",
       "      <td>0.0</td>\n",
       "      <td>0.0397</td>\n",
       "      <td>0.3300</td>\n",
       "      <td>0.006090</td>\n",
       "      <td>...</td>\n",
       "      <td>0.269</td>\n",
       "      <td>118.039</td>\n",
       "      <td>audio_features</td>\n",
       "      <td>2glwN5raCeEn0EdjKrNw6i</td>\n",
       "      <td>spotify:track:2glwN5raCeEn0EdjKrNw6i</td>\n",
       "      <td>https://api.spotify.com/v1/tracks/2glwN5raCeEn...</td>\n",
       "      <td>https://api.spotify.com/v1/audio-analysis/2glw...</td>\n",
       "      <td>456947.0</td>\n",
       "      <td>3.0</td>\n",
       "      <td>NaN</td>\n",
       "    </tr>\n",
       "    <tr>\n",
       "      <th>3</th>\n",
       "      <td>3</td>\n",
       "      <td>3.0</td>\n",
       "      <td>0.547</td>\n",
       "      <td>0.460</td>\n",
       "      <td>11.0</td>\n",
       "      <td>-8.759</td>\n",
       "      <td>0.0</td>\n",
       "      <td>0.0256</td>\n",
       "      <td>0.3440</td>\n",
       "      <td>0.442000</td>\n",
       "      <td>...</td>\n",
       "      <td>0.543</td>\n",
       "      <td>90.768</td>\n",
       "      <td>audio_features</td>\n",
       "      <td>4NQfrmGs9iQXVQI9IpRhjM</td>\n",
       "      <td>spotify:track:4NQfrmGs9iQXVQI9IpRhjM</td>\n",
       "      <td>https://api.spotify.com/v1/tracks/4NQfrmGs9iQX...</td>\n",
       "      <td>https://api.spotify.com/v1/audio-analysis/4NQf...</td>\n",
       "      <td>324733.0</td>\n",
       "      <td>4.0</td>\n",
       "      <td>NaN</td>\n",
       "    </tr>\n",
       "    <tr>\n",
       "      <th>4</th>\n",
       "      <td>4</td>\n",
       "      <td>4.0</td>\n",
       "      <td>0.383</td>\n",
       "      <td>0.480</td>\n",
       "      <td>7.0</td>\n",
       "      <td>-8.572</td>\n",
       "      <td>0.0</td>\n",
       "      <td>0.0360</td>\n",
       "      <td>0.0472</td>\n",
       "      <td>0.596000</td>\n",
       "      <td>...</td>\n",
       "      <td>0.274</td>\n",
       "      <td>129.183</td>\n",
       "      <td>audio_features</td>\n",
       "      <td>3oY4WcOoKQLcm3vdiGDx43</td>\n",
       "      <td>spotify:track:3oY4WcOoKQLcm3vdiGDx43</td>\n",
       "      <td>https://api.spotify.com/v1/tracks/3oY4WcOoKQLc...</td>\n",
       "      <td>https://api.spotify.com/v1/audio-analysis/3oY4...</td>\n",
       "      <td>263523.0</td>\n",
       "      <td>3.0</td>\n",
       "      <td>NaN</td>\n",
       "    </tr>\n",
       "  </tbody>\n",
       "</table>\n",
       "<p>5 rows × 21 columns</p>\n",
       "</div>"
      ],
      "text/plain": [
       "   Unnamed: 0.1  Unnamed: 0  danceability  energy   key  loudness  mode  \\\n",
       "0             0         0.0         0.666   0.400   9.0    -7.324   0.0   \n",
       "1             1         1.0         0.488   0.449   7.0   -10.793   0.0   \n",
       "2             2         2.0         0.487   0.538   5.0    -7.429   0.0   \n",
       "3             3         3.0         0.547   0.460  11.0    -8.759   0.0   \n",
       "4             4         4.0         0.383   0.480   7.0    -8.572   0.0   \n",
       "\n",
       "   speechiness  acousticness  instrumentalness  ...  valence    tempo  \\\n",
       "0       0.0328        0.7170          0.000334  ...    0.395   98.781   \n",
       "1       0.0438        0.0169          0.019000  ...    0.569  141.897   \n",
       "2       0.0397        0.3300          0.006090  ...    0.269  118.039   \n",
       "3       0.0256        0.3440          0.442000  ...    0.543   90.768   \n",
       "4       0.0360        0.0472          0.596000  ...    0.274  129.183   \n",
       "\n",
       "             type                      id  \\\n",
       "0  audio_features  6I8EbSSjimK98wiDCMtnBQ   \n",
       "1  audio_features  1WVh4LQBjRhooTIYmMpAu4   \n",
       "2  audio_features  2glwN5raCeEn0EdjKrNw6i   \n",
       "3  audio_features  4NQfrmGs9iQXVQI9IpRhjM   \n",
       "4  audio_features  3oY4WcOoKQLcm3vdiGDx43   \n",
       "\n",
       "                                    uri  \\\n",
       "0  spotify:track:6I8EbSSjimK98wiDCMtnBQ   \n",
       "1  spotify:track:1WVh4LQBjRhooTIYmMpAu4   \n",
       "2  spotify:track:2glwN5raCeEn0EdjKrNw6i   \n",
       "3  spotify:track:4NQfrmGs9iQXVQI9IpRhjM   \n",
       "4  spotify:track:3oY4WcOoKQLcm3vdiGDx43   \n",
       "\n",
       "                                          track_href  \\\n",
       "0  https://api.spotify.com/v1/tracks/6I8EbSSjimK9...   \n",
       "1  https://api.spotify.com/v1/tracks/1WVh4LQBjRho...   \n",
       "2  https://api.spotify.com/v1/tracks/2glwN5raCeEn...   \n",
       "3  https://api.spotify.com/v1/tracks/4NQfrmGs9iQX...   \n",
       "4  https://api.spotify.com/v1/tracks/3oY4WcOoKQLc...   \n",
       "\n",
       "                                        analysis_url duration_ms  \\\n",
       "0  https://api.spotify.com/v1/audio-analysis/6I8E...    285507.0   \n",
       "1  https://api.spotify.com/v1/audio-analysis/1WVh...    322027.0   \n",
       "2  https://api.spotify.com/v1/audio-analysis/2glw...    456947.0   \n",
       "3  https://api.spotify.com/v1/audio-analysis/4NQf...    324733.0   \n",
       "4  https://api.spotify.com/v1/audio-analysis/3oY4...    263523.0   \n",
       "\n",
       "   time_signature  <!DOCTYPE html>  \n",
       "0             3.0              NaN  \n",
       "1             3.0              NaN  \n",
       "2             3.0              NaN  \n",
       "3             4.0              NaN  \n",
       "4             3.0              NaN  \n",
       "\n",
       "[5 rows x 21 columns]"
      ]
     },
     "execution_count": 6,
     "metadata": {},
     "output_type": "execute_result"
    }
   ],
   "source": [
    "final_df = pd.read_csv(\"https://raw.githubusercontent.com/Esther-Velasco/esther_labs/main/W6/final_music_data.csv\", sep=',')\n",
    "\"\"\" Taking a lot at the df to see which columns to drop and to keep:\n",
    "- in K-Means modelling I only use numerical data\n",
    "- evaluate which features are more relevant to help my model be more powerful\n",
    "\"\"\"\n",
    "final_df.head(5)"
   ]
  },
  {
   "cell_type": "markdown",
   "metadata": {},
   "source": [
    "### I need to have one DF with the ids for the program recommendations later on"
   ]
  },
  {
   "cell_type": "code",
   "execution_count": 7,
   "metadata": {},
   "outputs": [
    {
     "data": {
      "text/plain": [
       "Index(['Unnamed: 0.1', 'Unnamed: 0', 'danceability', 'energy', 'key',\n",
       "       'loudness', 'mode', 'speechiness', 'acousticness', 'instrumentalness',\n",
       "       'liveness', 'valence', 'tempo', 'type', 'id', 'uri', 'track_href',\n",
       "       'analysis_url', 'duration_ms', 'time_signature', '<!DOCTYPE html>'],\n",
       "      dtype='object')"
      ]
     },
     "execution_count": 7,
     "metadata": {},
     "output_type": "execute_result"
    }
   ],
   "source": [
    "final_df.columns"
   ]
  },
  {
   "cell_type": "code",
   "execution_count": 8,
   "metadata": {},
   "outputs": [
    {
     "data": {
      "text/plain": [
       "Index(['danceability', 'energy', 'loudness', 'speechiness', 'acousticness',\n",
       "       'instrumentalness', 'liveness', 'valence', 'id'],\n",
       "      dtype='object')"
      ]
     },
     "execution_count": 8,
     "metadata": {},
     "output_type": "execute_result"
    }
   ],
   "source": [
    "ids_df = final_df.drop(columns=['<!DOCTYPE html>', 'time_signature', 'duration_ms',\n",
    "                       'analysis_url', 'track_href', 'uri',\n",
    "                       'type', 'tempo',\n",
    "                       'mode','key', 'Unnamed: 0',\n",
    "                       'Unnamed: 0.1'])\n",
    "ids_df.columns"
   ]
  },
  {
   "cell_type": "code",
   "execution_count": 9,
   "metadata": {},
   "outputs": [
    {
     "data": {
      "text/plain": [
       "danceability        2004\n",
       "energy              2004\n",
       "loudness            2004\n",
       "speechiness         2004\n",
       "acousticness        2004\n",
       "instrumentalness    2004\n",
       "liveness            2004\n",
       "valence             2004\n",
       "id                  2004\n",
       "dtype: int64"
      ]
     },
     "execution_count": 9,
     "metadata": {},
     "output_type": "execute_result"
    }
   ],
   "source": [
    "# Count the number of null values in each column- and how many??\n",
    "ids_df.isna().sum()"
   ]
  },
  {
   "cell_type": "code",
   "execution_count": 10,
   "metadata": {},
   "outputs": [
    {
     "data": {
      "text/html": [
       "<div>\n",
       "<style scoped>\n",
       "    .dataframe tbody tr th:only-of-type {\n",
       "        vertical-align: middle;\n",
       "    }\n",
       "\n",
       "    .dataframe tbody tr th {\n",
       "        vertical-align: top;\n",
       "    }\n",
       "\n",
       "    .dataframe thead th {\n",
       "        text-align: right;\n",
       "    }\n",
       "</style>\n",
       "<table border=\"1\" class=\"dataframe\">\n",
       "  <thead>\n",
       "    <tr style=\"text-align: right;\">\n",
       "      <th></th>\n",
       "      <th>danceability</th>\n",
       "      <th>energy</th>\n",
       "      <th>loudness</th>\n",
       "      <th>speechiness</th>\n",
       "      <th>acousticness</th>\n",
       "      <th>instrumentalness</th>\n",
       "      <th>liveness</th>\n",
       "      <th>valence</th>\n",
       "      <th>id</th>\n",
       "    </tr>\n",
       "  </thead>\n",
       "  <tbody>\n",
       "    <tr>\n",
       "      <th>0</th>\n",
       "      <td>0.666</td>\n",
       "      <td>0.400</td>\n",
       "      <td>-7.324</td>\n",
       "      <td>0.0328</td>\n",
       "      <td>0.717000</td>\n",
       "      <td>0.000334</td>\n",
       "      <td>0.3420</td>\n",
       "      <td>0.395</td>\n",
       "      <td>6I8EbSSjimK98wiDCMtnBQ</td>\n",
       "    </tr>\n",
       "    <tr>\n",
       "      <th>1</th>\n",
       "      <td>0.488</td>\n",
       "      <td>0.449</td>\n",
       "      <td>-10.793</td>\n",
       "      <td>0.0438</td>\n",
       "      <td>0.016900</td>\n",
       "      <td>0.019000</td>\n",
       "      <td>0.2690</td>\n",
       "      <td>0.569</td>\n",
       "      <td>1WVh4LQBjRhooTIYmMpAu4</td>\n",
       "    </tr>\n",
       "    <tr>\n",
       "      <th>2</th>\n",
       "      <td>0.487</td>\n",
       "      <td>0.538</td>\n",
       "      <td>-7.429</td>\n",
       "      <td>0.0397</td>\n",
       "      <td>0.330000</td>\n",
       "      <td>0.006090</td>\n",
       "      <td>0.1030</td>\n",
       "      <td>0.269</td>\n",
       "      <td>2glwN5raCeEn0EdjKrNw6i</td>\n",
       "    </tr>\n",
       "    <tr>\n",
       "      <th>3</th>\n",
       "      <td>0.547</td>\n",
       "      <td>0.460</td>\n",
       "      <td>-8.759</td>\n",
       "      <td>0.0256</td>\n",
       "      <td>0.344000</td>\n",
       "      <td>0.442000</td>\n",
       "      <td>0.0983</td>\n",
       "      <td>0.543</td>\n",
       "      <td>4NQfrmGs9iQXVQI9IpRhjM</td>\n",
       "    </tr>\n",
       "    <tr>\n",
       "      <th>4</th>\n",
       "      <td>0.383</td>\n",
       "      <td>0.480</td>\n",
       "      <td>-8.572</td>\n",
       "      <td>0.0360</td>\n",
       "      <td>0.047200</td>\n",
       "      <td>0.596000</td>\n",
       "      <td>0.3630</td>\n",
       "      <td>0.274</td>\n",
       "      <td>3oY4WcOoKQLcm3vdiGDx43</td>\n",
       "    </tr>\n",
       "    <tr>\n",
       "      <th>...</th>\n",
       "      <td>...</td>\n",
       "      <td>...</td>\n",
       "      <td>...</td>\n",
       "      <td>...</td>\n",
       "      <td>...</td>\n",
       "      <td>...</td>\n",
       "      <td>...</td>\n",
       "      <td>...</td>\n",
       "      <td>...</td>\n",
       "    </tr>\n",
       "    <tr>\n",
       "      <th>5230</th>\n",
       "      <td>0.505</td>\n",
       "      <td>0.833</td>\n",
       "      <td>-4.632</td>\n",
       "      <td>0.0475</td>\n",
       "      <td>0.007720</td>\n",
       "      <td>0.000079</td>\n",
       "      <td>0.0690</td>\n",
       "      <td>0.565</td>\n",
       "      <td>5lN1EH25gdiqT1SFALMAq1</td>\n",
       "    </tr>\n",
       "    <tr>\n",
       "      <th>5231</th>\n",
       "      <td>0.458</td>\n",
       "      <td>0.895</td>\n",
       "      <td>-3.972</td>\n",
       "      <td>0.0681</td>\n",
       "      <td>0.000219</td>\n",
       "      <td>0.000394</td>\n",
       "      <td>0.1060</td>\n",
       "      <td>0.357</td>\n",
       "      <td>5u6fnmRO5V0PTl5M2Eekeu</td>\n",
       "    </tr>\n",
       "    <tr>\n",
       "      <th>5232</th>\n",
       "      <td>0.228</td>\n",
       "      <td>0.872</td>\n",
       "      <td>-5.479</td>\n",
       "      <td>0.0648</td>\n",
       "      <td>0.006720</td>\n",
       "      <td>0.000000</td>\n",
       "      <td>0.2420</td>\n",
       "      <td>0.278</td>\n",
       "      <td>4QwcuKjGjtl5fZe7kDdULV</td>\n",
       "    </tr>\n",
       "    <tr>\n",
       "      <th>5233</th>\n",
       "      <td>0.329</td>\n",
       "      <td>0.676</td>\n",
       "      <td>-9.036</td>\n",
       "      <td>0.0324</td>\n",
       "      <td>0.036600</td>\n",
       "      <td>0.000000</td>\n",
       "      <td>0.1800</td>\n",
       "      <td>0.529</td>\n",
       "      <td>7iEVmnzJr1V7duYKPWplzp</td>\n",
       "    </tr>\n",
       "    <tr>\n",
       "      <th>5234</th>\n",
       "      <td>0.528</td>\n",
       "      <td>0.921</td>\n",
       "      <td>-7.640</td>\n",
       "      <td>0.0524</td>\n",
       "      <td>0.017400</td>\n",
       "      <td>0.000186</td>\n",
       "      <td>0.0472</td>\n",
       "      <td>0.298</td>\n",
       "      <td>6UGHk2cmbDC1oidVjXcCKo</td>\n",
       "    </tr>\n",
       "  </tbody>\n",
       "</table>\n",
       "<p>5235 rows × 9 columns</p>\n",
       "</div>"
      ],
      "text/plain": [
       "      danceability  energy  loudness  speechiness  acousticness  \\\n",
       "0            0.666   0.400    -7.324       0.0328      0.717000   \n",
       "1            0.488   0.449   -10.793       0.0438      0.016900   \n",
       "2            0.487   0.538    -7.429       0.0397      0.330000   \n",
       "3            0.547   0.460    -8.759       0.0256      0.344000   \n",
       "4            0.383   0.480    -8.572       0.0360      0.047200   \n",
       "...            ...     ...       ...          ...           ...   \n",
       "5230         0.505   0.833    -4.632       0.0475      0.007720   \n",
       "5231         0.458   0.895    -3.972       0.0681      0.000219   \n",
       "5232         0.228   0.872    -5.479       0.0648      0.006720   \n",
       "5233         0.329   0.676    -9.036       0.0324      0.036600   \n",
       "5234         0.528   0.921    -7.640       0.0524      0.017400   \n",
       "\n",
       "      instrumentalness  liveness  valence                      id  \n",
       "0             0.000334    0.3420    0.395  6I8EbSSjimK98wiDCMtnBQ  \n",
       "1             0.019000    0.2690    0.569  1WVh4LQBjRhooTIYmMpAu4  \n",
       "2             0.006090    0.1030    0.269  2glwN5raCeEn0EdjKrNw6i  \n",
       "3             0.442000    0.0983    0.543  4NQfrmGs9iQXVQI9IpRhjM  \n",
       "4             0.596000    0.3630    0.274  3oY4WcOoKQLcm3vdiGDx43  \n",
       "...                ...       ...      ...                     ...  \n",
       "5230          0.000079    0.0690    0.565  5lN1EH25gdiqT1SFALMAq1  \n",
       "5231          0.000394    0.1060    0.357  5u6fnmRO5V0PTl5M2Eekeu  \n",
       "5232          0.000000    0.2420    0.278  4QwcuKjGjtl5fZe7kDdULV  \n",
       "5233          0.000000    0.1800    0.529  7iEVmnzJr1V7duYKPWplzp  \n",
       "5234          0.000186    0.0472    0.298  6UGHk2cmbDC1oidVjXcCKo  \n",
       "\n",
       "[5235 rows x 9 columns]"
      ]
     },
     "execution_count": 10,
     "metadata": {},
     "output_type": "execute_result"
    }
   ],
   "source": [
    "ids_df.dropna(inplace=True)\n",
    "ids_df.reset_index(drop=True, inplace=True)\n",
    "ids_df"
   ]
  },
  {
   "cell_type": "markdown",
   "metadata": {},
   "source": [
    "save this df with ids in a csv"
   ]
  },
  {
   "cell_type": "code",
   "execution_count": 11,
   "metadata": {},
   "outputs": [],
   "source": [
    "ids_df.to_csv(\"with_ids.csv\")"
   ]
  },
  {
   "cell_type": "markdown",
   "metadata": {},
   "source": [
    "#### Droping columns and keeping relevant numerical data"
   ]
  },
  {
   "cell_type": "code",
   "execution_count": 12,
   "metadata": {},
   "outputs": [],
   "source": [
    "\"\"\" Firstly, we select the columns we want to cluster by, those which are relevant to the grouping criteria. \n",
    "In this case, we are going to select acousticness, danceability, energy, instrumentalness, liveness, loudness, \n",
    "speechiness and valence. \"\"\"\n",
    "\n",
    "final_final_df = ids_df.drop(columns=['id'])"
   ]
  },
  {
   "cell_type": "code",
   "execution_count": 13,
   "metadata": {},
   "outputs": [
    {
     "data": {
      "text/html": [
       "<div>\n",
       "<style scoped>\n",
       "    .dataframe tbody tr th:only-of-type {\n",
       "        vertical-align: middle;\n",
       "    }\n",
       "\n",
       "    .dataframe tbody tr th {\n",
       "        vertical-align: top;\n",
       "    }\n",
       "\n",
       "    .dataframe thead th {\n",
       "        text-align: right;\n",
       "    }\n",
       "</style>\n",
       "<table border=\"1\" class=\"dataframe\">\n",
       "  <thead>\n",
       "    <tr style=\"text-align: right;\">\n",
       "      <th></th>\n",
       "      <th>danceability</th>\n",
       "      <th>energy</th>\n",
       "      <th>loudness</th>\n",
       "      <th>speechiness</th>\n",
       "      <th>acousticness</th>\n",
       "      <th>instrumentalness</th>\n",
       "      <th>liveness</th>\n",
       "      <th>valence</th>\n",
       "    </tr>\n",
       "  </thead>\n",
       "  <tbody>\n",
       "    <tr>\n",
       "      <th>0</th>\n",
       "      <td>0.666</td>\n",
       "      <td>0.400</td>\n",
       "      <td>-7.324</td>\n",
       "      <td>0.0328</td>\n",
       "      <td>0.717000</td>\n",
       "      <td>0.000334</td>\n",
       "      <td>0.3420</td>\n",
       "      <td>0.395</td>\n",
       "    </tr>\n",
       "    <tr>\n",
       "      <th>1</th>\n",
       "      <td>0.488</td>\n",
       "      <td>0.449</td>\n",
       "      <td>-10.793</td>\n",
       "      <td>0.0438</td>\n",
       "      <td>0.016900</td>\n",
       "      <td>0.019000</td>\n",
       "      <td>0.2690</td>\n",
       "      <td>0.569</td>\n",
       "    </tr>\n",
       "    <tr>\n",
       "      <th>2</th>\n",
       "      <td>0.487</td>\n",
       "      <td>0.538</td>\n",
       "      <td>-7.429</td>\n",
       "      <td>0.0397</td>\n",
       "      <td>0.330000</td>\n",
       "      <td>0.006090</td>\n",
       "      <td>0.1030</td>\n",
       "      <td>0.269</td>\n",
       "    </tr>\n",
       "    <tr>\n",
       "      <th>3</th>\n",
       "      <td>0.547</td>\n",
       "      <td>0.460</td>\n",
       "      <td>-8.759</td>\n",
       "      <td>0.0256</td>\n",
       "      <td>0.344000</td>\n",
       "      <td>0.442000</td>\n",
       "      <td>0.0983</td>\n",
       "      <td>0.543</td>\n",
       "    </tr>\n",
       "    <tr>\n",
       "      <th>4</th>\n",
       "      <td>0.383</td>\n",
       "      <td>0.480</td>\n",
       "      <td>-8.572</td>\n",
       "      <td>0.0360</td>\n",
       "      <td>0.047200</td>\n",
       "      <td>0.596000</td>\n",
       "      <td>0.3630</td>\n",
       "      <td>0.274</td>\n",
       "    </tr>\n",
       "    <tr>\n",
       "      <th>...</th>\n",
       "      <td>...</td>\n",
       "      <td>...</td>\n",
       "      <td>...</td>\n",
       "      <td>...</td>\n",
       "      <td>...</td>\n",
       "      <td>...</td>\n",
       "      <td>...</td>\n",
       "      <td>...</td>\n",
       "    </tr>\n",
       "    <tr>\n",
       "      <th>5230</th>\n",
       "      <td>0.505</td>\n",
       "      <td>0.833</td>\n",
       "      <td>-4.632</td>\n",
       "      <td>0.0475</td>\n",
       "      <td>0.007720</td>\n",
       "      <td>0.000079</td>\n",
       "      <td>0.0690</td>\n",
       "      <td>0.565</td>\n",
       "    </tr>\n",
       "    <tr>\n",
       "      <th>5231</th>\n",
       "      <td>0.458</td>\n",
       "      <td>0.895</td>\n",
       "      <td>-3.972</td>\n",
       "      <td>0.0681</td>\n",
       "      <td>0.000219</td>\n",
       "      <td>0.000394</td>\n",
       "      <td>0.1060</td>\n",
       "      <td>0.357</td>\n",
       "    </tr>\n",
       "    <tr>\n",
       "      <th>5232</th>\n",
       "      <td>0.228</td>\n",
       "      <td>0.872</td>\n",
       "      <td>-5.479</td>\n",
       "      <td>0.0648</td>\n",
       "      <td>0.006720</td>\n",
       "      <td>0.000000</td>\n",
       "      <td>0.2420</td>\n",
       "      <td>0.278</td>\n",
       "    </tr>\n",
       "    <tr>\n",
       "      <th>5233</th>\n",
       "      <td>0.329</td>\n",
       "      <td>0.676</td>\n",
       "      <td>-9.036</td>\n",
       "      <td>0.0324</td>\n",
       "      <td>0.036600</td>\n",
       "      <td>0.000000</td>\n",
       "      <td>0.1800</td>\n",
       "      <td>0.529</td>\n",
       "    </tr>\n",
       "    <tr>\n",
       "      <th>5234</th>\n",
       "      <td>0.528</td>\n",
       "      <td>0.921</td>\n",
       "      <td>-7.640</td>\n",
       "      <td>0.0524</td>\n",
       "      <td>0.017400</td>\n",
       "      <td>0.000186</td>\n",
       "      <td>0.0472</td>\n",
       "      <td>0.298</td>\n",
       "    </tr>\n",
       "  </tbody>\n",
       "</table>\n",
       "<p>5235 rows × 8 columns</p>\n",
       "</div>"
      ],
      "text/plain": [
       "      danceability  energy  loudness  speechiness  acousticness  \\\n",
       "0            0.666   0.400    -7.324       0.0328      0.717000   \n",
       "1            0.488   0.449   -10.793       0.0438      0.016900   \n",
       "2            0.487   0.538    -7.429       0.0397      0.330000   \n",
       "3            0.547   0.460    -8.759       0.0256      0.344000   \n",
       "4            0.383   0.480    -8.572       0.0360      0.047200   \n",
       "...            ...     ...       ...          ...           ...   \n",
       "5230         0.505   0.833    -4.632       0.0475      0.007720   \n",
       "5231         0.458   0.895    -3.972       0.0681      0.000219   \n",
       "5232         0.228   0.872    -5.479       0.0648      0.006720   \n",
       "5233         0.329   0.676    -9.036       0.0324      0.036600   \n",
       "5234         0.528   0.921    -7.640       0.0524      0.017400   \n",
       "\n",
       "      instrumentalness  liveness  valence  \n",
       "0             0.000334    0.3420    0.395  \n",
       "1             0.019000    0.2690    0.569  \n",
       "2             0.006090    0.1030    0.269  \n",
       "3             0.442000    0.0983    0.543  \n",
       "4             0.596000    0.3630    0.274  \n",
       "...                ...       ...      ...  \n",
       "5230          0.000079    0.0690    0.565  \n",
       "5231          0.000394    0.1060    0.357  \n",
       "5232          0.000000    0.2420    0.278  \n",
       "5233          0.000000    0.1800    0.529  \n",
       "5234          0.000186    0.0472    0.298  \n",
       "\n",
       "[5235 rows x 8 columns]"
      ]
     },
     "execution_count": 13,
     "metadata": {},
     "output_type": "execute_result"
    }
   ],
   "source": [
    "final_final_df"
   ]
  },
  {
   "cell_type": "markdown",
   "metadata": {},
   "source": [
    "Saving this one for the model."
   ]
  },
  {
   "cell_type": "code",
   "execution_count": 14,
   "metadata": {},
   "outputs": [],
   "source": [
    "final_final_df.to_csv(\"cleaned_audiofeatures.csv\")"
   ]
  },
  {
   "cell_type": "markdown",
   "metadata": {},
   "source": [
    "# 2. Scale data: first .fit(), then .transform()\n",
    "#### Check scale of values to get an idea of the dimensions"
   ]
  },
  {
   "cell_type": "code",
   "execution_count": 15,
   "metadata": {},
   "outputs": [
    {
     "data": {
      "text/html": [
       "<div>\n",
       "<style scoped>\n",
       "    .dataframe tbody tr th:only-of-type {\n",
       "        vertical-align: middle;\n",
       "    }\n",
       "\n",
       "    .dataframe tbody tr th {\n",
       "        vertical-align: top;\n",
       "    }\n",
       "\n",
       "    .dataframe thead th {\n",
       "        text-align: right;\n",
       "    }\n",
       "</style>\n",
       "<table border=\"1\" class=\"dataframe\">\n",
       "  <thead>\n",
       "    <tr style=\"text-align: right;\">\n",
       "      <th></th>\n",
       "      <th>danceability</th>\n",
       "      <th>energy</th>\n",
       "      <th>loudness</th>\n",
       "      <th>speechiness</th>\n",
       "      <th>acousticness</th>\n",
       "      <th>instrumentalness</th>\n",
       "      <th>liveness</th>\n",
       "      <th>valence</th>\n",
       "    </tr>\n",
       "  </thead>\n",
       "  <tbody>\n",
       "    <tr>\n",
       "      <th>count</th>\n",
       "      <td>5235.000000</td>\n",
       "      <td>5235.000000</td>\n",
       "      <td>5235.000000</td>\n",
       "      <td>5235.000000</td>\n",
       "      <td>5235.000000</td>\n",
       "      <td>5235.000000</td>\n",
       "      <td>5235.000000</td>\n",
       "      <td>5235.000000</td>\n",
       "    </tr>\n",
       "    <tr>\n",
       "      <th>mean</th>\n",
       "      <td>0.639687</td>\n",
       "      <td>0.696565</td>\n",
       "      <td>-6.814986</td>\n",
       "      <td>0.081382</td>\n",
       "      <td>0.209050</td>\n",
       "      <td>0.060800</td>\n",
       "      <td>0.183742</td>\n",
       "      <td>0.579101</td>\n",
       "    </tr>\n",
       "    <tr>\n",
       "      <th>std</th>\n",
       "      <td>0.157264</td>\n",
       "      <td>0.220675</td>\n",
       "      <td>4.198788</td>\n",
       "      <td>0.073938</td>\n",
       "      <td>0.271471</td>\n",
       "      <td>0.190868</td>\n",
       "      <td>0.144393</td>\n",
       "      <td>0.231803</td>\n",
       "    </tr>\n",
       "    <tr>\n",
       "      <th>min</th>\n",
       "      <td>0.071400</td>\n",
       "      <td>0.003280</td>\n",
       "      <td>-38.915000</td>\n",
       "      <td>0.023100</td>\n",
       "      <td>0.000003</td>\n",
       "      <td>0.000000</td>\n",
       "      <td>0.011300</td>\n",
       "      <td>0.033200</td>\n",
       "    </tr>\n",
       "    <tr>\n",
       "      <th>25%</th>\n",
       "      <td>0.540000</td>\n",
       "      <td>0.593000</td>\n",
       "      <td>-8.277000</td>\n",
       "      <td>0.037600</td>\n",
       "      <td>0.019500</td>\n",
       "      <td>0.000000</td>\n",
       "      <td>0.089700</td>\n",
       "      <td>0.402000</td>\n",
       "    </tr>\n",
       "    <tr>\n",
       "      <th>50%</th>\n",
       "      <td>0.663000</td>\n",
       "      <td>0.753000</td>\n",
       "      <td>-5.747000</td>\n",
       "      <td>0.053400</td>\n",
       "      <td>0.086100</td>\n",
       "      <td>0.000016</td>\n",
       "      <td>0.127000</td>\n",
       "      <td>0.602000</td>\n",
       "    </tr>\n",
       "    <tr>\n",
       "      <th>75%</th>\n",
       "      <td>0.754000</td>\n",
       "      <td>0.861000</td>\n",
       "      <td>-4.107000</td>\n",
       "      <td>0.090800</td>\n",
       "      <td>0.279000</td>\n",
       "      <td>0.002090</td>\n",
       "      <td>0.247500</td>\n",
       "      <td>0.765000</td>\n",
       "    </tr>\n",
       "    <tr>\n",
       "      <th>max</th>\n",
       "      <td>0.979000</td>\n",
       "      <td>0.997000</td>\n",
       "      <td>0.076000</td>\n",
       "      <td>0.777000</td>\n",
       "      <td>0.995000</td>\n",
       "      <td>0.985000</td>\n",
       "      <td>0.988000</td>\n",
       "      <td>0.983000</td>\n",
       "    </tr>\n",
       "  </tbody>\n",
       "</table>\n",
       "</div>"
      ],
      "text/plain": [
       "       danceability       energy     loudness  speechiness  acousticness  \\\n",
       "count   5235.000000  5235.000000  5235.000000  5235.000000   5235.000000   \n",
       "mean       0.639687     0.696565    -6.814986     0.081382      0.209050   \n",
       "std        0.157264     0.220675     4.198788     0.073938      0.271471   \n",
       "min        0.071400     0.003280   -38.915000     0.023100      0.000003   \n",
       "25%        0.540000     0.593000    -8.277000     0.037600      0.019500   \n",
       "50%        0.663000     0.753000    -5.747000     0.053400      0.086100   \n",
       "75%        0.754000     0.861000    -4.107000     0.090800      0.279000   \n",
       "max        0.979000     0.997000     0.076000     0.777000      0.995000   \n",
       "\n",
       "       instrumentalness     liveness      valence  \n",
       "count       5235.000000  5235.000000  5235.000000  \n",
       "mean           0.060800     0.183742     0.579101  \n",
       "std            0.190868     0.144393     0.231803  \n",
       "min            0.000000     0.011300     0.033200  \n",
       "25%            0.000000     0.089700     0.402000  \n",
       "50%            0.000016     0.127000     0.602000  \n",
       "75%            0.002090     0.247500     0.765000  \n",
       "max            0.985000     0.988000     0.983000  "
      ]
     },
     "execution_count": 15,
     "metadata": {},
     "output_type": "execute_result"
    }
   ],
   "source": [
    "#checking the scale of our min and max values to understand how big are the values we are talking about.\n",
    "final_final_df.describe()\n",
    "#loudness has quite a deviating min value compared to the rest, but overall quite homogeneous data."
   ]
  },
  {
   "cell_type": "markdown",
   "metadata": {},
   "source": [
    "#### Apply scaler"
   ]
  },
  {
   "cell_type": "code",
   "execution_count": 16,
   "metadata": {},
   "outputs": [
    {
     "name": "stdout",
     "output_type": "stream",
     "text": [
      "\n"
     ]
    },
    {
     "data": {
      "text/html": [
       "<div>\n",
       "<style scoped>\n",
       "    .dataframe tbody tr th:only-of-type {\n",
       "        vertical-align: middle;\n",
       "    }\n",
       "\n",
       "    .dataframe tbody tr th {\n",
       "        vertical-align: top;\n",
       "    }\n",
       "\n",
       "    .dataframe thead th {\n",
       "        text-align: right;\n",
       "    }\n",
       "</style>\n",
       "<table border=\"1\" class=\"dataframe\">\n",
       "  <thead>\n",
       "    <tr style=\"text-align: right;\">\n",
       "      <th></th>\n",
       "      <th>danceability</th>\n",
       "      <th>energy</th>\n",
       "      <th>loudness</th>\n",
       "      <th>speechiness</th>\n",
       "      <th>acousticness</th>\n",
       "      <th>instrumentalness</th>\n",
       "      <th>liveness</th>\n",
       "      <th>valence</th>\n",
       "    </tr>\n",
       "  </thead>\n",
       "  <tbody>\n",
       "    <tr>\n",
       "      <th>0</th>\n",
       "      <td>0.167332</td>\n",
       "      <td>-1.344025</td>\n",
       "      <td>-0.121240</td>\n",
       "      <td>-0.657126</td>\n",
       "      <td>1.871279</td>\n",
       "      <td>-0.316824</td>\n",
       "      <td>1.096127</td>\n",
       "      <td>-0.794287</td>\n",
       "    </tr>\n",
       "    <tr>\n",
       "      <th>1</th>\n",
       "      <td>-0.964633</td>\n",
       "      <td>-1.121958</td>\n",
       "      <td>-0.947510</td>\n",
       "      <td>-0.508339</td>\n",
       "      <td>-0.707877</td>\n",
       "      <td>-0.219019</td>\n",
       "      <td>0.590513</td>\n",
       "      <td>-0.043579</td>\n",
       "    </tr>\n",
       "    <tr>\n",
       "      <th>2</th>\n",
       "      <td>-0.970993</td>\n",
       "      <td>-0.718612</td>\n",
       "      <td>-0.146250</td>\n",
       "      <td>-0.563796</td>\n",
       "      <td>0.445578</td>\n",
       "      <td>-0.286664</td>\n",
       "      <td>-0.559240</td>\n",
       "      <td>-1.337904</td>\n",
       "    </tr>\n",
       "    <tr>\n",
       "      <th>3</th>\n",
       "      <td>-0.589431</td>\n",
       "      <td>-1.072106</td>\n",
       "      <td>-0.463038</td>\n",
       "      <td>-0.754514</td>\n",
       "      <td>0.497154</td>\n",
       "      <td>1.997385</td>\n",
       "      <td>-0.591794</td>\n",
       "      <td>-0.155753</td>\n",
       "    </tr>\n",
       "    <tr>\n",
       "      <th>4</th>\n",
       "      <td>-1.632366</td>\n",
       "      <td>-0.981467</td>\n",
       "      <td>-0.418497</td>\n",
       "      <td>-0.613843</td>\n",
       "      <td>-0.596252</td>\n",
       "      <td>2.804303</td>\n",
       "      <td>1.241578</td>\n",
       "      <td>-1.316332</td>\n",
       "    </tr>\n",
       "  </tbody>\n",
       "</table>\n",
       "</div>"
      ],
      "text/plain": [
       "   danceability    energy  loudness  speechiness  acousticness  \\\n",
       "0      0.167332 -1.344025 -0.121240    -0.657126      1.871279   \n",
       "1     -0.964633 -1.121958 -0.947510    -0.508339     -0.707877   \n",
       "2     -0.970993 -0.718612 -0.146250    -0.563796      0.445578   \n",
       "3     -0.589431 -1.072106 -0.463038    -0.754514      0.497154   \n",
       "4     -1.632366 -0.981467 -0.418497    -0.613843     -0.596252   \n",
       "\n",
       "   instrumentalness  liveness   valence  \n",
       "0         -0.316824  1.096127 -0.794287  \n",
       "1         -0.219019  0.590513 -0.043579  \n",
       "2         -0.286664 -0.559240 -1.337904  \n",
       "3          1.997385 -0.591794 -0.155753  \n",
       "4          2.804303  1.241578 -1.316332  "
      ]
     },
     "metadata": {},
     "output_type": "display_data"
    }
   ],
   "source": [
    "scaler = StandardScaler()  #or MinMaxScaler() as well\n",
    "scaler.fit(final_final_df)   #here fit() calculates the mean and std\n",
    "final_scaled = scaler.transform(final_final_df)\n",
    "scaled_df = pd.DataFrame(final_scaled, columns = final_final_df.columns)\n",
    "#display(.head())\n",
    "print()\n",
    "display(scaled_df.head())\n",
    "\n",
    "#now we check variables dimensions and it looks better!"
   ]
  },
  {
   "cell_type": "code",
   "execution_count": 17,
   "metadata": {},
   "outputs": [
    {
     "data": {
      "text/html": [
       "<div>\n",
       "<style scoped>\n",
       "    .dataframe tbody tr th:only-of-type {\n",
       "        vertical-align: middle;\n",
       "    }\n",
       "\n",
       "    .dataframe tbody tr th {\n",
       "        vertical-align: top;\n",
       "    }\n",
       "\n",
       "    .dataframe thead th {\n",
       "        text-align: right;\n",
       "    }\n",
       "</style>\n",
       "<table border=\"1\" class=\"dataframe\">\n",
       "  <thead>\n",
       "    <tr style=\"text-align: right;\">\n",
       "      <th></th>\n",
       "      <th>danceability</th>\n",
       "      <th>energy</th>\n",
       "      <th>loudness</th>\n",
       "      <th>speechiness</th>\n",
       "      <th>acousticness</th>\n",
       "      <th>instrumentalness</th>\n",
       "      <th>liveness</th>\n",
       "      <th>valence</th>\n",
       "    </tr>\n",
       "  </thead>\n",
       "  <tbody>\n",
       "    <tr>\n",
       "      <th>count</th>\n",
       "      <td>5.235000e+03</td>\n",
       "      <td>5.235000e+03</td>\n",
       "      <td>5.235000e+03</td>\n",
       "      <td>5.235000e+03</td>\n",
       "      <td>5.235000e+03</td>\n",
       "      <td>5.235000e+03</td>\n",
       "      <td>5.235000e+03</td>\n",
       "      <td>5.235000e+03</td>\n",
       "    </tr>\n",
       "    <tr>\n",
       "      <th>mean</th>\n",
       "      <td>2.388835e-16</td>\n",
       "      <td>-4.126170e-16</td>\n",
       "      <td>-4.343337e-17</td>\n",
       "      <td>-2.171668e-17</td>\n",
       "      <td>8.686673e-17</td>\n",
       "      <td>-5.972088e-17</td>\n",
       "      <td>-6.922193e-17</td>\n",
       "      <td>1.085834e-16</td>\n",
       "    </tr>\n",
       "    <tr>\n",
       "      <th>std</th>\n",
       "      <td>1.000096e+00</td>\n",
       "      <td>1.000096e+00</td>\n",
       "      <td>1.000096e+00</td>\n",
       "      <td>1.000096e+00</td>\n",
       "      <td>1.000096e+00</td>\n",
       "      <td>1.000096e+00</td>\n",
       "      <td>1.000096e+00</td>\n",
       "      <td>1.000096e+00</td>\n",
       "    </tr>\n",
       "    <tr>\n",
       "      <th>min</th>\n",
       "      <td>-3.613941e+00</td>\n",
       "      <td>-3.141952e+00</td>\n",
       "      <td>-7.645798e+00</td>\n",
       "      <td>-7.883295e-01</td>\n",
       "      <td>-7.701245e-01</td>\n",
       "      <td>-3.185738e-01</td>\n",
       "      <td>-1.194375e+00</td>\n",
       "      <td>-2.355244e+00</td>\n",
       "    </tr>\n",
       "    <tr>\n",
       "      <th>25%</th>\n",
       "      <td>-6.339468e-01</td>\n",
       "      <td>-4.693530e-01</td>\n",
       "      <td>-3.482323e-01</td>\n",
       "      <td>-5.922011e-01</td>\n",
       "      <td>-6.982986e-01</td>\n",
       "      <td>-3.185738e-01</td>\n",
       "      <td>-6.513592e-01</td>\n",
       "      <td>-7.640865e-01</td>\n",
       "    </tr>\n",
       "    <tr>\n",
       "      <th>50%</th>\n",
       "      <td>1.482540e-01</td>\n",
       "      <td>2.557636e-01</td>\n",
       "      <td>2.543802e-01</td>\n",
       "      <td>-3.784888e-01</td>\n",
       "      <td>-4.529454e-01</td>\n",
       "      <td>-3.184884e-01</td>\n",
       "      <td>-3.930111e-01</td>\n",
       "      <td>9.879722e-02</td>\n",
       "    </tr>\n",
       "    <tr>\n",
       "      <th>75%</th>\n",
       "      <td>7.269555e-01</td>\n",
       "      <td>7.452173e-01</td>\n",
       "      <td>6.450065e-01</td>\n",
       "      <td>1.273871e-01</td>\n",
       "      <td>2.576949e-01</td>\n",
       "      <td>-3.076227e-01</td>\n",
       "      <td>4.415988e-01</td>\n",
       "      <td>8.020475e-01</td>\n",
       "    </tr>\n",
       "    <tr>\n",
       "      <th>max</th>\n",
       "      <td>2.157811e+00</td>\n",
       "      <td>1.361566e+00</td>\n",
       "      <td>1.641342e+00</td>\n",
       "      <td>9.408994e+00</td>\n",
       "      <td>2.895427e+00</td>\n",
       "      <td>4.842557e+00</td>\n",
       "      <td>5.570467e+00</td>\n",
       "      <td>1.742591e+00</td>\n",
       "    </tr>\n",
       "  </tbody>\n",
       "</table>\n",
       "</div>"
      ],
      "text/plain": [
       "       danceability        energy      loudness   speechiness  acousticness  \\\n",
       "count  5.235000e+03  5.235000e+03  5.235000e+03  5.235000e+03  5.235000e+03   \n",
       "mean   2.388835e-16 -4.126170e-16 -4.343337e-17 -2.171668e-17  8.686673e-17   \n",
       "std    1.000096e+00  1.000096e+00  1.000096e+00  1.000096e+00  1.000096e+00   \n",
       "min   -3.613941e+00 -3.141952e+00 -7.645798e+00 -7.883295e-01 -7.701245e-01   \n",
       "25%   -6.339468e-01 -4.693530e-01 -3.482323e-01 -5.922011e-01 -6.982986e-01   \n",
       "50%    1.482540e-01  2.557636e-01  2.543802e-01 -3.784888e-01 -4.529454e-01   \n",
       "75%    7.269555e-01  7.452173e-01  6.450065e-01  1.273871e-01  2.576949e-01   \n",
       "max    2.157811e+00  1.361566e+00  1.641342e+00  9.408994e+00  2.895427e+00   \n",
       "\n",
       "       instrumentalness      liveness       valence  \n",
       "count      5.235000e+03  5.235000e+03  5.235000e+03  \n",
       "mean      -5.972088e-17 -6.922193e-17  1.085834e-16  \n",
       "std        1.000096e+00  1.000096e+00  1.000096e+00  \n",
       "min       -3.185738e-01 -1.194375e+00 -2.355244e+00  \n",
       "25%       -3.185738e-01 -6.513592e-01 -7.640865e-01  \n",
       "50%       -3.184884e-01 -3.930111e-01  9.879722e-02  \n",
       "75%       -3.076227e-01  4.415988e-01  8.020475e-01  \n",
       "max        4.842557e+00  5.570467e+00  1.742591e+00  "
      ]
     },
     "execution_count": 17,
     "metadata": {},
     "output_type": "execute_result"
    }
   ],
   "source": [
    "scaled_df.describe()"
   ]
  },
  {
   "cell_type": "markdown",
   "metadata": {},
   "source": [
    "#### I save my scaler in a pickle for the future since I will need to scale the input songs´audio features as well"
   ]
  },
  {
   "cell_type": "code",
   "execution_count": 18,
   "metadata": {},
   "outputs": [
    {
     "data": {
      "text/plain": [
       "'\\ndef load(filename = “filename.pickle”): \\ntry: \\nwith open(filename, \"rb\") as f: \\nreturn pickle.load(f) \\nexcept FileNotFoundError: \\nprint(“File not found!”) \\n'"
      ]
     },
     "execution_count": 18,
     "metadata": {},
     "output_type": "execute_result"
    }
   ],
   "source": [
    "\n",
    "def save(scaler, filename = \"scaler_model_songrecommender.pickle\"): \n",
    "    with open(filename, \"wb\") as f:\n",
    "        pickle.dump(scaler, f)\n",
    "\n",
    "\n",
    "#To restore the picke later in the program I will have to use:\n",
    "\"\"\"\n",
    "def load(filename = “filename.pickle”): \n",
    "try: \n",
    "with open(filename, \"rb\") as f: \n",
    "return pickle.load(f) \n",
    "except FileNotFoundError: \n",
    "print(“File not found!”) \n",
    "\"\"\""
   ]
  },
  {
   "cell_type": "code",
   "execution_count": 19,
   "metadata": {},
   "outputs": [],
   "source": [
    "save(scaler,\"scaler_model_songrecommender.pickle\")"
   ]
  },
  {
   "cell_type": "markdown",
   "metadata": {},
   "source": [
    "# 3. Clustering\n",
    "#### First use a random number, then refine once model is done though elbow or silhouette techniques\n",
    "#### Although I know I added around 16 styles"
   ]
  },
  {
   "cell_type": "code",
   "execution_count": 20,
   "metadata": {},
   "outputs": [
    {
     "name": "stderr",
     "output_type": "stream",
     "text": [
      "/Users/esthervelasco/Library/Python/3.9/lib/python/site-packages/sklearn/cluster/_kmeans.py:1416: FutureWarning: The default value of `n_init` will change from 10 to 'auto' in 1.4. Set the value of `n_init` explicitly to suppress the warning\n",
      "  super()._check_params_vs_input(X, default_n_init=10)\n"
     ]
    },
    {
     "data": {
      "text/html": [
       "<style>#sk-container-id-1 {color: black;}#sk-container-id-1 pre{padding: 0;}#sk-container-id-1 div.sk-toggleable {background-color: white;}#sk-container-id-1 label.sk-toggleable__label {cursor: pointer;display: block;width: 100%;margin-bottom: 0;padding: 0.3em;box-sizing: border-box;text-align: center;}#sk-container-id-1 label.sk-toggleable__label-arrow:before {content: \"▸\";float: left;margin-right: 0.25em;color: #696969;}#sk-container-id-1 label.sk-toggleable__label-arrow:hover:before {color: black;}#sk-container-id-1 div.sk-estimator:hover label.sk-toggleable__label-arrow:before {color: black;}#sk-container-id-1 div.sk-toggleable__content {max-height: 0;max-width: 0;overflow: hidden;text-align: left;background-color: #f0f8ff;}#sk-container-id-1 div.sk-toggleable__content pre {margin: 0.2em;color: black;border-radius: 0.25em;background-color: #f0f8ff;}#sk-container-id-1 input.sk-toggleable__control:checked~div.sk-toggleable__content {max-height: 200px;max-width: 100%;overflow: auto;}#sk-container-id-1 input.sk-toggleable__control:checked~label.sk-toggleable__label-arrow:before {content: \"▾\";}#sk-container-id-1 div.sk-estimator input.sk-toggleable__control:checked~label.sk-toggleable__label {background-color: #d4ebff;}#sk-container-id-1 div.sk-label input.sk-toggleable__control:checked~label.sk-toggleable__label {background-color: #d4ebff;}#sk-container-id-1 input.sk-hidden--visually {border: 0;clip: rect(1px 1px 1px 1px);clip: rect(1px, 1px, 1px, 1px);height: 1px;margin: -1px;overflow: hidden;padding: 0;position: absolute;width: 1px;}#sk-container-id-1 div.sk-estimator {font-family: monospace;background-color: #f0f8ff;border: 1px dotted black;border-radius: 0.25em;box-sizing: border-box;margin-bottom: 0.5em;}#sk-container-id-1 div.sk-estimator:hover {background-color: #d4ebff;}#sk-container-id-1 div.sk-parallel-item::after {content: \"\";width: 100%;border-bottom: 1px solid gray;flex-grow: 1;}#sk-container-id-1 div.sk-label:hover label.sk-toggleable__label {background-color: #d4ebff;}#sk-container-id-1 div.sk-serial::before {content: \"\";position: absolute;border-left: 1px solid gray;box-sizing: border-box;top: 0;bottom: 0;left: 50%;z-index: 0;}#sk-container-id-1 div.sk-serial {display: flex;flex-direction: column;align-items: center;background-color: white;padding-right: 0.2em;padding-left: 0.2em;position: relative;}#sk-container-id-1 div.sk-item {position: relative;z-index: 1;}#sk-container-id-1 div.sk-parallel {display: flex;align-items: stretch;justify-content: center;background-color: white;position: relative;}#sk-container-id-1 div.sk-item::before, #sk-container-id-1 div.sk-parallel-item::before {content: \"\";position: absolute;border-left: 1px solid gray;box-sizing: border-box;top: 0;bottom: 0;left: 50%;z-index: -1;}#sk-container-id-1 div.sk-parallel-item {display: flex;flex-direction: column;z-index: 1;position: relative;background-color: white;}#sk-container-id-1 div.sk-parallel-item:first-child::after {align-self: flex-end;width: 50%;}#sk-container-id-1 div.sk-parallel-item:last-child::after {align-self: flex-start;width: 50%;}#sk-container-id-1 div.sk-parallel-item:only-child::after {width: 0;}#sk-container-id-1 div.sk-dashed-wrapped {border: 1px dashed gray;margin: 0 0.4em 0.5em 0.4em;box-sizing: border-box;padding-bottom: 0.4em;background-color: white;}#sk-container-id-1 div.sk-label label {font-family: monospace;font-weight: bold;display: inline-block;line-height: 1.2em;}#sk-container-id-1 div.sk-label-container {text-align: center;}#sk-container-id-1 div.sk-container {/* jupyter's `normalize.less` sets `[hidden] { display: none; }` but bootstrap.min.css set `[hidden] { display: none !important; }` so we also need the `!important` here to be able to override the default hidden behavior on the sphinx rendered scikit-learn.org. See: https://github.com/scikit-learn/scikit-learn/issues/21755 */display: inline-block !important;position: relative;}#sk-container-id-1 div.sk-text-repr-fallback {display: none;}</style><div id=\"sk-container-id-1\" class=\"sk-top-container\"><div class=\"sk-text-repr-fallback\"><pre>KMeans(n_clusters=20, random_state=1234)</pre><b>In a Jupyter environment, please rerun this cell to show the HTML representation or trust the notebook. <br />On GitHub, the HTML representation is unable to render, please try loading this page with nbviewer.org.</b></div><div class=\"sk-container\" hidden><div class=\"sk-item\"><div class=\"sk-estimator sk-toggleable\"><input class=\"sk-toggleable__control sk-hidden--visually\" id=\"sk-estimator-id-1\" type=\"checkbox\" checked><label for=\"sk-estimator-id-1\" class=\"sk-toggleable__label sk-toggleable__label-arrow\">KMeans</label><div class=\"sk-toggleable__content\"><pre>KMeans(n_clusters=20, random_state=1234)</pre></div></div></div></div></div>"
      ],
      "text/plain": [
       "KMeans(n_clusters=20, random_state=1234)"
      ]
     },
     "execution_count": 20,
     "metadata": {},
     "output_type": "execute_result"
    }
   ],
   "source": [
    "#imported from sklearn.cluster\n",
    "#I chose a random number of clusters\n",
    "kmeans = KMeans(n_clusters=20, random_state=1234)\n",
    "kmeans.fit(scaled_df)  #here is magic happens, now i have my kmeans model"
   ]
  },
  {
   "cell_type": "code",
   "execution_count": 21,
   "metadata": {},
   "outputs": [
    {
     "data": {
      "text/plain": [
       "array([ 0,  1,  2,  3,  4,  5,  6,  7,  8,  9, 10, 11, 12, 13, 14, 15, 16,\n",
       "       17, 18, 19], dtype=int32)"
      ]
     },
     "execution_count": 21,
     "metadata": {},
     "output_type": "execute_result"
    }
   ],
   "source": [
    "#for each datapoint I am getting the following cluster value\n",
    "labels = kmeans.labels_\n",
    "#the number of clusters: I have 8 from 0 to 8\n",
    "np.unique(labels)"
   ]
  },
  {
   "cell_type": "markdown",
   "metadata": {},
   "source": [
    "#### Finishing my model"
   ]
  },
  {
   "cell_type": "code",
   "execution_count": 22,
   "metadata": {},
   "outputs": [
    {
     "data": {
      "image/png": "[encoded data removed]",
      "text/plain": [
       "<Figure size 640x480 with 1 Axes>"
      ]
     },
     "metadata": {},
     "output_type": "display_data"
    }
   ],
   "source": [
    "#FOR RANDOM FEATURES:\n",
    "# assign a cluster to each example\n",
    "labels = kmeans.predict(scaled_df)\n",
    "# retrieve unique clusters\n",
    "clusters = np.unique(labels)\n",
    "# create scatter plot for samples from each cluster\n",
    "for cluster in clusters:\n",
    "    # get row indexes for samples with this cluster\n",
    "    row_ix = np.where(labels == cluster)\n",
    "    # create scatter of these samples\n",
    "    plt.scatter(final_df.to_numpy()[row_ix, 1], final_df.to_numpy()[row_ix, 3])\n",
    "    # show the plot\n",
    "plt.show()"
   ]
  },
  {
   "cell_type": "markdown",
   "metadata": {},
   "source": [
    "# 4. Refining the model"
   ]
  },
  {
   "cell_type": "markdown",
   "metadata": {},
   "source": [
    "#### Get the clusters and how many observations each cluster has."
   ]
  },
  {
   "cell_type": "code",
   "execution_count": 23,
   "metadata": {},
   "outputs": [
    {
     "data": {
      "text/plain": [
       "0      69\n",
       "1     468\n",
       "2     343\n",
       "3     182\n",
       "4     179\n",
       "5     288\n",
       "6      83\n",
       "7     713\n",
       "8     455\n",
       "9      69\n",
       "10    284\n",
       "11    332\n",
       "12    332\n",
       "13    139\n",
       "14    213\n",
       "15     94\n",
       "16    569\n",
       "17     97\n",
       "18    229\n",
       "19     97\n",
       "Name: count, dtype: int64"
      ]
     },
     "execution_count": 23,
     "metadata": {},
     "output_type": "execute_result"
    }
   ],
   "source": [
    "clusters = kmeans.predict(scaled_df)\n",
    "#clusters\n",
    "pd.Series(clusters).value_counts().sort_index()"
   ]
  },
  {
   "cell_type": "markdown",
   "metadata": {},
   "source": [
    "#### I create a column in the DF with clusters\n"
   ]
  },
  {
   "cell_type": "code",
   "execution_count": 24,
   "metadata": {},
   "outputs": [],
   "source": [
    "clustered_df = pd.DataFrame(final_final_df)\n",
    "final_final_df[\"cluster\"] = clusters"
   ]
  },
  {
   "cell_type": "markdown",
   "metadata": {},
   "source": [
    "Parameters : silhouette and elbow methods"
   ]
  },
  {
   "cell_type": "code",
   "execution_count": 25,
   "metadata": {},
   "outputs": [
    {
     "data": {
      "text/plain": [
       "10901.568897592275"
      ]
     },
     "execution_count": 25,
     "metadata": {},
     "output_type": "execute_result"
    }
   ],
   "source": [
    "kmeans.inertia_"
   ]
  },
  {
   "cell_type": "code",
   "execution_count": 38,
   "metadata": {},
   "outputs": [
    {
     "name": "stdout",
     "output_type": "stream",
     "text": [
      "13281.48358111743\n"
     ]
    }
   ],
   "source": [
    "#initialization method(algorithm), can be random, can be k-means++ which is the best to pick initial centroids. It was discovered in 2007. \n",
    "kmeans2 = KMeans(n_clusters=15,\n",
    "                init=\"k-means++\", \n",
    "                n_init=20,  # how many times it should initalize the centroids, and then pick one. Try with 1, 4, 8, 20, 30, 100... By default its 10. Alex does not recommend going to 50, 100.\n",
    "                max_iter=1,\n",
    "                tol=0,\n",
    "                algorithm=\"elkan\", \n",
    "                random_state=1234) #the first centriod is picked at random\n",
    "kmeans2.fit(scaled_df)\n",
    "print(kmeans2.inertia_)"
   ]
  },
  {
   "cell_type": "markdown",
   "metadata": {},
   "source": [
    "#### Trying elbow method to cluster definition"
   ]
  },
  {
   "cell_type": "code",
   "execution_count": 27,
   "metadata": {},
   "outputs": [
    {
     "name": "stdout",
     "output_type": "stream",
     "text": [
      "Training a K-Means model with 2 clusters! \n",
      "\n",
      "Training a K-Means model with 3 clusters! \n",
      "\n",
      "Training a K-Means model with 4 clusters! \n",
      "\n"
     ]
    },
    {
     "name": "stderr",
     "output_type": "stream",
     "text": [
      "/Users/esthervelasco/Library/Python/3.9/lib/python/site-packages/sklearn/cluster/_kmeans.py:1416: FutureWarning: The default value of `n_init` will change from 10 to 'auto' in 1.4. Set the value of `n_init` explicitly to suppress the warning\n",
      "  super()._check_params_vs_input(X, default_n_init=10)\n",
      "/Users/esthervelasco/Library/Python/3.9/lib/python/site-packages/sklearn/cluster/_kmeans.py:1416: FutureWarning: The default value of `n_init` will change from 10 to 'auto' in 1.4. Set the value of `n_init` explicitly to suppress the warning\n",
      "  super()._check_params_vs_input(X, default_n_init=10)\n",
      "/Users/esthervelasco/Library/Python/3.9/lib/python/site-packages/sklearn/cluster/_kmeans.py:1416: FutureWarning: The default value of `n_init` will change from 10 to 'auto' in 1.4. Set the value of `n_init` explicitly to suppress the warning\n",
      "  super()._check_params_vs_input(X, default_n_init=10)\n"
     ]
    },
    {
     "name": "stdout",
     "output_type": "stream",
     "text": [
      "Training a K-Means model with 5 clusters! \n",
      "\n",
      "Training a K-Means model with 6 clusters! \n",
      "\n",
      "Training a K-Means model with 7 clusters! \n",
      "\n"
     ]
    },
    {
     "name": "stderr",
     "output_type": "stream",
     "text": [
      "/Users/esthervelasco/Library/Python/3.9/lib/python/site-packages/sklearn/cluster/_kmeans.py:1416: FutureWarning: The default value of `n_init` will change from 10 to 'auto' in 1.4. Set the value of `n_init` explicitly to suppress the warning\n",
      "  super()._check_params_vs_input(X, default_n_init=10)\n",
      "/Users/esthervelasco/Library/Python/3.9/lib/python/site-packages/sklearn/cluster/_kmeans.py:1416: FutureWarning: The default value of `n_init` will change from 10 to 'auto' in 1.4. Set the value of `n_init` explicitly to suppress the warning\n",
      "  super()._check_params_vs_input(X, default_n_init=10)\n",
      "/Users/esthervelasco/Library/Python/3.9/lib/python/site-packages/sklearn/cluster/_kmeans.py:1416: FutureWarning: The default value of `n_init` will change from 10 to 'auto' in 1.4. Set the value of `n_init` explicitly to suppress the warning\n",
      "  super()._check_params_vs_input(X, default_n_init=10)\n"
     ]
    },
    {
     "name": "stdout",
     "output_type": "stream",
     "text": [
      "Training a K-Means model with 8 clusters! \n",
      "\n"
     ]
    },
    {
     "name": "stderr",
     "output_type": "stream",
     "text": [
      "/Users/esthervelasco/Library/Python/3.9/lib/python/site-packages/sklearn/cluster/_kmeans.py:1416: FutureWarning: The default value of `n_init` will change from 10 to 'auto' in 1.4. Set the value of `n_init` explicitly to suppress the warning\n",
      "  super()._check_params_vs_input(X, default_n_init=10)\n"
     ]
    },
    {
     "name": "stdout",
     "output_type": "stream",
     "text": [
      "Training a K-Means model with 9 clusters! \n",
      "\n"
     ]
    },
    {
     "name": "stderr",
     "output_type": "stream",
     "text": [
      "/Users/esthervelasco/Library/Python/3.9/lib/python/site-packages/sklearn/cluster/_kmeans.py:1416: FutureWarning: The default value of `n_init` will change from 10 to 'auto' in 1.4. Set the value of `n_init` explicitly to suppress the warning\n",
      "  super()._check_params_vs_input(X, default_n_init=10)\n"
     ]
    },
    {
     "name": "stdout",
     "output_type": "stream",
     "text": [
      "Training a K-Means model with 10 clusters! \n",
      "\n",
      "Training a K-Means model with 11 clusters! \n",
      "\n"
     ]
    },
    {
     "name": "stderr",
     "output_type": "stream",
     "text": [
      "/Users/esthervelasco/Library/Python/3.9/lib/python/site-packages/sklearn/cluster/_kmeans.py:1416: FutureWarning: The default value of `n_init` will change from 10 to 'auto' in 1.4. Set the value of `n_init` explicitly to suppress the warning\n",
      "  super()._check_params_vs_input(X, default_n_init=10)\n",
      "/Users/esthervelasco/Library/Python/3.9/lib/python/site-packages/sklearn/cluster/_kmeans.py:1416: FutureWarning: The default value of `n_init` will change from 10 to 'auto' in 1.4. Set the value of `n_init` explicitly to suppress the warning\n",
      "  super()._check_params_vs_input(X, default_n_init=10)\n"
     ]
    },
    {
     "name": "stdout",
     "output_type": "stream",
     "text": [
      "Training a K-Means model with 12 clusters! \n",
      "\n",
      "Training a K-Means model with 13 clusters! \n",
      "\n"
     ]
    },
    {
     "name": "stderr",
     "output_type": "stream",
     "text": [
      "/Users/esthervelasco/Library/Python/3.9/lib/python/site-packages/sklearn/cluster/_kmeans.py:1416: FutureWarning: The default value of `n_init` will change from 10 to 'auto' in 1.4. Set the value of `n_init` explicitly to suppress the warning\n",
      "  super()._check_params_vs_input(X, default_n_init=10)\n",
      "/Users/esthervelasco/Library/Python/3.9/lib/python/site-packages/sklearn/cluster/_kmeans.py:1416: FutureWarning: The default value of `n_init` will change from 10 to 'auto' in 1.4. Set the value of `n_init` explicitly to suppress the warning\n",
      "  super()._check_params_vs_input(X, default_n_init=10)\n"
     ]
    },
    {
     "name": "stdout",
     "output_type": "stream",
     "text": [
      "Training a K-Means model with 14 clusters! \n",
      "\n",
      "Training a K-Means model with 15 clusters! \n",
      "\n"
     ]
    },
    {
     "name": "stderr",
     "output_type": "stream",
     "text": [
      "/Users/esthervelasco/Library/Python/3.9/lib/python/site-packages/sklearn/cluster/_kmeans.py:1416: FutureWarning: The default value of `n_init` will change from 10 to 'auto' in 1.4. Set the value of `n_init` explicitly to suppress the warning\n",
      "  super()._check_params_vs_input(X, default_n_init=10)\n",
      "/Users/esthervelasco/Library/Python/3.9/lib/python/site-packages/sklearn/cluster/_kmeans.py:1416: FutureWarning: The default value of `n_init` will change from 10 to 'auto' in 1.4. Set the value of `n_init` explicitly to suppress the warning\n",
      "  super()._check_params_vs_input(X, default_n_init=10)\n"
     ]
    },
    {
     "name": "stdout",
     "output_type": "stream",
     "text": [
      "Training a K-Means model with 16 clusters! \n",
      "\n"
     ]
    },
    {
     "name": "stderr",
     "output_type": "stream",
     "text": [
      "/Users/esthervelasco/Library/Python/3.9/lib/python/site-packages/sklearn/cluster/_kmeans.py:1416: FutureWarning: The default value of `n_init` will change from 10 to 'auto' in 1.4. Set the value of `n_init` explicitly to suppress the warning\n",
      "  super()._check_params_vs_input(X, default_n_init=10)\n"
     ]
    },
    {
     "name": "stdout",
     "output_type": "stream",
     "text": [
      "Training a K-Means model with 17 clusters! \n",
      "\n"
     ]
    },
    {
     "name": "stderr",
     "output_type": "stream",
     "text": [
      "/Users/esthervelasco/Library/Python/3.9/lib/python/site-packages/sklearn/cluster/_kmeans.py:1416: FutureWarning: The default value of `n_init` will change from 10 to 'auto' in 1.4. Set the value of `n_init` explicitly to suppress the warning\n",
      "  super()._check_params_vs_input(X, default_n_init=10)\n"
     ]
    },
    {
     "name": "stdout",
     "output_type": "stream",
     "text": [
      "Training a K-Means model with 18 clusters! \n",
      "\n"
     ]
    },
    {
     "name": "stderr",
     "output_type": "stream",
     "text": [
      "/Users/esthervelasco/Library/Python/3.9/lib/python/site-packages/sklearn/cluster/_kmeans.py:1416: FutureWarning: The default value of `n_init` will change from 10 to 'auto' in 1.4. Set the value of `n_init` explicitly to suppress the warning\n",
      "  super()._check_params_vs_input(X, default_n_init=10)\n"
     ]
    },
    {
     "name": "stdout",
     "output_type": "stream",
     "text": [
      "Training a K-Means model with 19 clusters! \n",
      "\n"
     ]
    },
    {
     "name": "stderr",
     "output_type": "stream",
     "text": [
      "/Users/esthervelasco/Library/Python/3.9/lib/python/site-packages/sklearn/cluster/_kmeans.py:1416: FutureWarning: The default value of `n_init` will change from 10 to 'auto' in 1.4. Set the value of `n_init` explicitly to suppress the warning\n",
      "  super()._check_params_vs_input(X, default_n_init=10)\n"
     ]
    },
    {
     "name": "stdout",
     "output_type": "stream",
     "text": [
      "Training a K-Means model with 20 clusters! \n",
      "\n"
     ]
    },
    {
     "name": "stderr",
     "output_type": "stream",
     "text": [
      "/Users/esthervelasco/Library/Python/3.9/lib/python/site-packages/sklearn/cluster/_kmeans.py:1416: FutureWarning: The default value of `n_init` will change from 10 to 'auto' in 1.4. Set the value of `n_init` explicitly to suppress the warning\n",
      "  super()._check_params_vs_input(X, default_n_init=10)\n"
     ]
    },
    {
     "data": {
      "text/plain": [
       "Text(0.5, 1.0, 'Elbow Method showing the optimal k')"
      ]
     },
     "execution_count": 27,
     "metadata": {},
     "output_type": "execute_result"
    },
    {
     "data": {
      "image/png": "[encoded data removed]",
      "text/plain": [
       "<Figure size 1600x800 with 1 Axes>"
      ]
     },
     "metadata": {},
     "output_type": "display_data"
    }
   ],
   "source": [
    "K = range(2, 21)\n",
    "inertia = []\n",
    "\n",
    "for k in K:\n",
    "    print(\"Training a K-Means model with {} clusters! \".format(k))\n",
    "    print()\n",
    "    kmeans = KMeans(n_clusters=k,\n",
    "                    random_state=1234)\n",
    "    kmeans.fit(scaled_df)\n",
    "    inertia.append(kmeans.inertia_)  #append error to inertia list\n",
    "\n",
    "import numpy as np\n",
    "import matplotlib.pyplot as plt\n",
    "%matplotlib inline\n",
    "\n",
    "plt.figure(figsize=(16,8))\n",
    "plt.plot(K, inertia, 'bx-')\n",
    "plt.xlabel('k')\n",
    "plt.ylabel('inertia')\n",
    "plt.xticks(np.arange(min(K), max(K)+1, 1.0))\n",
    "plt.title('Elbow Method showing the optimal k')"
   ]
  },
  {
   "cell_type": "code",
   "execution_count": 28,
   "metadata": {},
   "outputs": [],
   "source": [
    "#My elbow sets both 6 and 8 as potential cluster values, let´s see the silhouette"
   ]
  },
  {
   "cell_type": "markdown",
   "metadata": {},
   "source": [
    "#### Trying silhouette method to cluster definition"
   ]
  },
  {
   "cell_type": "code",
   "execution_count": 29,
   "metadata": {},
   "outputs": [
    {
     "data": {
      "text/plain": [
       "Text(0.5, 1.0, 'Silhouette Method showing the optimal k')"
      ]
     },
     "execution_count": 29,
     "metadata": {},
     "output_type": "execute_result"
    },
    {
     "data": {
      "image/png": "[encoded data removed]",
      "text/plain": [
       "<Figure size 1600x800 with 1 Axes>"
      ]
     },
     "metadata": {},
     "output_type": "display_data"
    }
   ],
   "source": [
    "K = range(2, 20)\n",
    "silhouette = []\n",
    "\n",
    "for k in K:\n",
    "    kmeans = KMeans(n_clusters=k,\n",
    "                    random_state=1234, n_init='auto')\n",
    "    kmeans.fit(scaled_df)\n",
    "    \n",
    "    filename = \"Model/kmeans_\" + str(k) + \".pickle\"\n",
    "    #with open(filename, \"wb\") as f:\n",
    "        #pickle.dump(kmeans,f)\n",
    "    \n",
    "    silhouette.append(silhouette_score(scaled_df, kmeans.predict(scaled_df)))\n",
    "\n",
    "\n",
    "plt.figure(figsize=(16,8))\n",
    "plt.plot(K, silhouette, 'bx-')\n",
    "plt.xlabel('k')\n",
    "plt.ylabel('silhouette score')\n",
    "plt.xticks(np.arange(min(K), max(K)+1, 1.0))\n",
    "plt.title('Silhouette Method showing the optimal k')"
   ]
  },
  {
   "cell_type": "markdown",
   "metadata": {},
   "source": [
    "#### I can see in the silhouette a bit of a higher value in number 16 "
   ]
  },
  {
   "cell_type": "markdown",
   "metadata": {},
   "source": [
    "# 5. Saving my model in pickle"
   ]
  },
  {
   "cell_type": "code",
   "execution_count": 30,
   "metadata": {},
   "outputs": [],
   "source": [
    "def load(filename = \"ModelSongRecommender.pickle\"): \n",
    "    try: \n",
    "        with open(filename, \"rb\") as f: \n",
    "            return pickle.load(f) \n",
    "        \n",
    "    except FileNotFoundError: \n",
    "        print(\"File not found!\") "
   ]
  },
  {
   "cell_type": "code",
   "execution_count": 39,
   "metadata": {},
   "outputs": [],
   "source": [
    "save(kmeans2,\"ModelSongRecommender.pickle\")"
   ]
  },
  {
   "cell_type": "code",
   "execution_count": 32,
   "metadata": {},
   "outputs": [
    {
     "data": {
      "text/plain": [
       "' Saved above as:\\ndef save(scaler, filename = \"scaler_model_songrecommender.pickle\"): \\n    with open(filename, \"wb\") as f:\\n        pickle.dump(scaler, f)\\n'"
      ]
     },
     "execution_count": 32,
     "metadata": {},
     "output_type": "execute_result"
    }
   ],
   "source": [
    "\"\"\" Saved above as:\n",
    "def save(scaler, filename = \"scaler_model_songrecommender.pickle\"): \n",
    "    with open(filename, \"wb\") as f:\n",
    "        pickle.dump(scaler, f)\n",
    "\"\"\""
   ]
  },
  {
   "cell_type": "markdown",
   "metadata": {},
   "source": [
    "#### Save df in csv with new cluster column to use in my program"
   ]
  },
  {
   "cell_type": "code",
   "execution_count": 33,
   "metadata": {},
   "outputs": [
    {
     "data": {
      "text/html": [
       "<div>\n",
       "<style scoped>\n",
       "    .dataframe tbody tr th:only-of-type {\n",
       "        vertical-align: middle;\n",
       "    }\n",
       "\n",
       "    .dataframe tbody tr th {\n",
       "        vertical-align: top;\n",
       "    }\n",
       "\n",
       "    .dataframe thead th {\n",
       "        text-align: right;\n",
       "    }\n",
       "</style>\n",
       "<table border=\"1\" class=\"dataframe\">\n",
       "  <thead>\n",
       "    <tr style=\"text-align: right;\">\n",
       "      <th></th>\n",
       "      <th>danceability</th>\n",
       "      <th>energy</th>\n",
       "      <th>loudness</th>\n",
       "      <th>speechiness</th>\n",
       "      <th>acousticness</th>\n",
       "      <th>instrumentalness</th>\n",
       "      <th>liveness</th>\n",
       "      <th>valence</th>\n",
       "      <th>cluster</th>\n",
       "    </tr>\n",
       "  </thead>\n",
       "  <tbody>\n",
       "    <tr>\n",
       "      <th>0</th>\n",
       "      <td>0.666</td>\n",
       "      <td>0.400</td>\n",
       "      <td>-7.324</td>\n",
       "      <td>0.0328</td>\n",
       "      <td>0.717000</td>\n",
       "      <td>0.000334</td>\n",
       "      <td>0.3420</td>\n",
       "      <td>0.395</td>\n",
       "      <td>10</td>\n",
       "    </tr>\n",
       "    <tr>\n",
       "      <th>1</th>\n",
       "      <td>0.488</td>\n",
       "      <td>0.449</td>\n",
       "      <td>-10.793</td>\n",
       "      <td>0.0438</td>\n",
       "      <td>0.016900</td>\n",
       "      <td>0.019000</td>\n",
       "      <td>0.2690</td>\n",
       "      <td>0.569</td>\n",
       "      <td>5</td>\n",
       "    </tr>\n",
       "    <tr>\n",
       "      <th>2</th>\n",
       "      <td>0.487</td>\n",
       "      <td>0.538</td>\n",
       "      <td>-7.429</td>\n",
       "      <td>0.0397</td>\n",
       "      <td>0.330000</td>\n",
       "      <td>0.006090</td>\n",
       "      <td>0.1030</td>\n",
       "      <td>0.269</td>\n",
       "      <td>5</td>\n",
       "    </tr>\n",
       "    <tr>\n",
       "      <th>3</th>\n",
       "      <td>0.547</td>\n",
       "      <td>0.460</td>\n",
       "      <td>-8.759</td>\n",
       "      <td>0.0256</td>\n",
       "      <td>0.344000</td>\n",
       "      <td>0.442000</td>\n",
       "      <td>0.0983</td>\n",
       "      <td>0.543</td>\n",
       "      <td>0</td>\n",
       "    </tr>\n",
       "    <tr>\n",
       "      <th>4</th>\n",
       "      <td>0.383</td>\n",
       "      <td>0.480</td>\n",
       "      <td>-8.572</td>\n",
       "      <td>0.0360</td>\n",
       "      <td>0.047200</td>\n",
       "      <td>0.596000</td>\n",
       "      <td>0.3630</td>\n",
       "      <td>0.274</td>\n",
       "      <td>0</td>\n",
       "    </tr>\n",
       "    <tr>\n",
       "      <th>...</th>\n",
       "      <td>...</td>\n",
       "      <td>...</td>\n",
       "      <td>...</td>\n",
       "      <td>...</td>\n",
       "      <td>...</td>\n",
       "      <td>...</td>\n",
       "      <td>...</td>\n",
       "      <td>...</td>\n",
       "      <td>...</td>\n",
       "    </tr>\n",
       "    <tr>\n",
       "      <th>5230</th>\n",
       "      <td>0.505</td>\n",
       "      <td>0.833</td>\n",
       "      <td>-4.632</td>\n",
       "      <td>0.0475</td>\n",
       "      <td>0.007720</td>\n",
       "      <td>0.000079</td>\n",
       "      <td>0.0690</td>\n",
       "      <td>0.565</td>\n",
       "      <td>8</td>\n",
       "    </tr>\n",
       "    <tr>\n",
       "      <th>5231</th>\n",
       "      <td>0.458</td>\n",
       "      <td>0.895</td>\n",
       "      <td>-3.972</td>\n",
       "      <td>0.0681</td>\n",
       "      <td>0.000219</td>\n",
       "      <td>0.000394</td>\n",
       "      <td>0.1060</td>\n",
       "      <td>0.357</td>\n",
       "      <td>11</td>\n",
       "    </tr>\n",
       "    <tr>\n",
       "      <th>5232</th>\n",
       "      <td>0.228</td>\n",
       "      <td>0.872</td>\n",
       "      <td>-5.479</td>\n",
       "      <td>0.0648</td>\n",
       "      <td>0.006720</td>\n",
       "      <td>0.000000</td>\n",
       "      <td>0.2420</td>\n",
       "      <td>0.278</td>\n",
       "      <td>11</td>\n",
       "    </tr>\n",
       "    <tr>\n",
       "      <th>5233</th>\n",
       "      <td>0.329</td>\n",
       "      <td>0.676</td>\n",
       "      <td>-9.036</td>\n",
       "      <td>0.0324</td>\n",
       "      <td>0.036600</td>\n",
       "      <td>0.000000</td>\n",
       "      <td>0.1800</td>\n",
       "      <td>0.529</td>\n",
       "      <td>11</td>\n",
       "    </tr>\n",
       "    <tr>\n",
       "      <th>5234</th>\n",
       "      <td>0.528</td>\n",
       "      <td>0.921</td>\n",
       "      <td>-7.640</td>\n",
       "      <td>0.0524</td>\n",
       "      <td>0.017400</td>\n",
       "      <td>0.000186</td>\n",
       "      <td>0.0472</td>\n",
       "      <td>0.298</td>\n",
       "      <td>11</td>\n",
       "    </tr>\n",
       "  </tbody>\n",
       "</table>\n",
       "<p>5235 rows × 9 columns</p>\n",
       "</div>"
      ],
      "text/plain": [
       "      danceability  energy  loudness  speechiness  acousticness  \\\n",
       "0            0.666   0.400    -7.324       0.0328      0.717000   \n",
       "1            0.488   0.449   -10.793       0.0438      0.016900   \n",
       "2            0.487   0.538    -7.429       0.0397      0.330000   \n",
       "3            0.547   0.460    -8.759       0.0256      0.344000   \n",
       "4            0.383   0.480    -8.572       0.0360      0.047200   \n",
       "...            ...     ...       ...          ...           ...   \n",
       "5230         0.505   0.833    -4.632       0.0475      0.007720   \n",
       "5231         0.458   0.895    -3.972       0.0681      0.000219   \n",
       "5232         0.228   0.872    -5.479       0.0648      0.006720   \n",
       "5233         0.329   0.676    -9.036       0.0324      0.036600   \n",
       "5234         0.528   0.921    -7.640       0.0524      0.017400   \n",
       "\n",
       "      instrumentalness  liveness  valence  cluster  \n",
       "0             0.000334    0.3420    0.395       10  \n",
       "1             0.019000    0.2690    0.569        5  \n",
       "2             0.006090    0.1030    0.269        5  \n",
       "3             0.442000    0.0983    0.543        0  \n",
       "4             0.596000    0.3630    0.274        0  \n",
       "...                ...       ...      ...      ...  \n",
       "5230          0.000079    0.0690    0.565        8  \n",
       "5231          0.000394    0.1060    0.357       11  \n",
       "5232          0.000000    0.2420    0.278       11  \n",
       "5233          0.000000    0.1800    0.529       11  \n",
       "5234          0.000186    0.0472    0.298       11  \n",
       "\n",
       "[5235 rows x 9 columns]"
      ]
     },
     "execution_count": 33,
     "metadata": {},
     "output_type": "execute_result"
    }
   ],
   "source": [
    "clustered_df= final_final_df.to_csv(\"clustered_audiofeatures.csv\")\n",
    "final_final_df"
   ]
  },
  {
   "cell_type": "code",
   "execution_count": null,
   "metadata": {},
   "outputs": [],
   "source": []
  },
  {
   "cell_type": "code",
   "execution_count": null,
   "metadata": {},
   "outputs": [],
   "source": []
  }
 ],
 "metadata": {
  "kernelspec": {
   "display_name": "Python 3",
   "language": "python",
   "name": "python3"
  },
  "language_info": {
   "codemirror_mode": {
    "name": "ipython",
    "version": 3
   },
   "file_extension": ".py",
   "mimetype": "text/x-python",
   "name": "python",
   "nbconvert_exporter": "python",
   "pygments_lexer": "ipython3",
   "version": "3.9.6"
  }
 },
 "nbformat": 4,
 "nbformat_minor": 2
}
