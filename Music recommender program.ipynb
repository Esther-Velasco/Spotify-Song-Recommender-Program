{
 "cells": [
  {
   "cell_type": "markdown",
   "id": "8d5bbc85",
   "metadata": {},
   "source": [
    "# Music recommender\n"
   ]
  },
  {
   "cell_type": "markdown",
   "id": "733b7de5",
   "metadata": {},
   "source": [
    "### Import csv created with top 100 Billboard songs"
   ]
  },
  {
   "cell_type": "code",
   "execution_count": 1,
   "id": "f4f61653",
   "metadata": {
    "scrolled": true
   },
   "outputs": [],
   "source": [
    "# Load the dataset\n",
    "import pandas as pd\n",
    "import random\n",
    "import spotipy\n",
    "import json\n",
    "from spotipy.oauth2 import SpotifyClientCredentials\n",
    "import config\n",
    "import pickle\n",
    "from sklearn.preprocessing import StandardScaler\n",
    "from sklearn.cluster import KMeans\n",
    "from IPython.display import IFrame\n",
    "\n",
    "\n",
    "#Initialize SpotiPy with user credentials: this is a popular way of ensuring that your credentials are safe\n",
    "#I am not pushing anything to Github!!! I am only storing my secret credentials in a .py file outside, but in the same\n",
    "#folder in my computer.\n",
    "#What can be done is creating a git_ignore file to indicate to github that it does not have to upload it.\n",
    "#Before commiting it, I can right click and select ignore file.\n",
    "\n",
    "sp = spotipy.Spotify(auth_manager=SpotifyClientCredentials(client_id= config.client_id,\n",
    "                                                           client_secret= config.client_secret))\n",
    "\n",
    "#Improting df´s\n",
    "#  1 . Hot songs\n",
    "url = 'hot100_songs.csv'\n",
    "hot100_df = pd.read_csv(url, index_col=[0])\n",
    "\n",
    "#  2.  Cleaned numerical for model creation, to use columns in program\n",
    "cleaned_df = pd.read_csv(\"cleaned_audiofeatures.csv\", index_col=[0])\n",
    "\n",
    "#  3.  With cluster column\n",
    "clustered_df = pd.read_csv(\"clustered_audiofeatures.csv\", index_col=[0])\n",
    "\n",
    "#  4.  With id´s of songs to be able to recommend\n",
    "ids_df = pd.read_csv(\"with_ids.csv\", index_col=[0])\n",
    "\n",
    "#  5.  Big DF with all downloaded songs\n",
    "titles_df = pd.read_csv(\"final_music_data.csv\", index_col=[0])\n"
   ]
  },
  {
   "cell_type": "code",
   "execution_count": 11,
   "id": "2727ba35",
   "metadata": {
    "scrolled": true
   },
   "outputs": [
    {
     "name": "stdin",
     "output_type": "stream",
     "text": [
      "Please enter your favorite song:\n",
      "\n",
      " boogie wonderland\n"
     ]
    },
    {
     "name": "stdout",
     "output_type": "stream",
     "text": [
      "\n",
      "\n",
      "Unfortunately, that song is not currently in our top 100 list.\n",
      "\n",
      " I can still recommend something you might like.\n",
      "\n"
     ]
    },
    {
     "name": "stderr",
     "output_type": "stream",
     "text": [
      "/Users/esthervelasco/anaconda3/lib/python3.11/site-packages/sklearn/base.py:318: UserWarning: Trying to unpickle estimator StandardScaler from version 1.3.2 when using version 1.2.2. This might lead to breaking code or invalid results. Use at your own risk. For more info please refer to:\n",
      "https://scikit-learn.org/stable/model_persistence.html#security-maintainability-limitations\n",
      "  warnings.warn(\n",
      "/Users/esthervelasco/anaconda3/lib/python3.11/site-packages/sklearn/utils/validation.py:767: FutureWarning: is_sparse is deprecated and will be removed in a future version. Check `isinstance(dtype, pd.SparseDtype)` instead.\n",
      "  if not hasattr(array, \"sparse\") and array.dtypes.apply(is_sparse).any():\n",
      "/Users/esthervelasco/anaconda3/lib/python3.11/site-packages/sklearn/utils/validation.py:605: FutureWarning: is_sparse is deprecated and will be removed in a future version. Check `isinstance(dtype, pd.SparseDtype)` instead.\n",
      "  if is_sparse(pd_dtype):\n",
      "/Users/esthervelasco/anaconda3/lib/python3.11/site-packages/sklearn/utils/validation.py:614: FutureWarning: is_sparse is deprecated and will be removed in a future version. Check `isinstance(dtype, pd.SparseDtype)` instead.\n",
      "  if is_sparse(pd_dtype) or not is_extension_array_dtype(pd_dtype):\n",
      "/Users/esthervelasco/anaconda3/lib/python3.11/site-packages/sklearn/base.py:318: UserWarning: Trying to unpickle estimator KMeans from version 1.3.2 when using version 1.2.2. This might lead to breaking code or invalid results. Use at your own risk. For more info please refer to:\n",
      "https://scikit-learn.org/stable/model_persistence.html#security-maintainability-limitations\n",
      "  warnings.warn(\n",
      "/Users/esthervelasco/anaconda3/lib/python3.11/site-packages/sklearn/utils/validation.py:767: FutureWarning: is_sparse is deprecated and will be removed in a future version. Check `isinstance(dtype, pd.SparseDtype)` instead.\n",
      "  if not hasattr(array, \"sparse\") and array.dtypes.apply(is_sparse).any():\n",
      "/Users/esthervelasco/anaconda3/lib/python3.11/site-packages/sklearn/utils/validation.py:605: FutureWarning: is_sparse is deprecated and will be removed in a future version. Check `isinstance(dtype, pd.SparseDtype)` instead.\n",
      "  if is_sparse(pd_dtype):\n",
      "/Users/esthervelasco/anaconda3/lib/python3.11/site-packages/sklearn/utils/validation.py:614: FutureWarning: is_sparse is deprecated and will be removed in a future version. Check `isinstance(dtype, pd.SparseDtype)` instead.\n",
      "  if is_sparse(pd_dtype) or not is_extension_array_dtype(pd_dtype):\n"
     ]
    },
    {
     "name": "stdout",
     "output_type": "stream",
     "text": [
      "\n",
      "\n",
      " What do you think about this other hit: \n",
      "\n",
      "\n"
     ]
    },
    {
     "data": {
      "text/html": [
       "\n",
       "        <iframe\n",
       "            width=\"320\"\n",
       "            height=\"80\"\n",
       "            src=\"https://open.spotify.com/embed/track/2PPJ49WjSLWpMkGrAEsprg?frameborder=0&allowtransparency=true&allow=encrypted-media\"\n",
       "            frameborder=\"0\"\n",
       "            allowfullscreen\n",
       "            \n",
       "        ></iframe>\n",
       "        "
      ],
      "text/plain": [
       "<IPython.lib.display.IFrame at 0x1262c6a50>"
      ]
     },
     "metadata": {},
     "output_type": "display_data"
    }
   ],
   "source": [
    "from difflib import get_close_matches\n",
    "\n",
    "# Function to find the closest match in a list of choices\n",
    "def get_closest_match(input_str, choices):\n",
    "    match = get_close_matches(input_str, choices, n=1, cutoff=0.8)\n",
    "    return match[0] if match else None\n",
    "\n",
    "#Function to load picke files\n",
    "def load(filename = \"scaler_model_songrecommender.pickle\"): \n",
    "    try: \n",
    "        with open(filename, \"rb\") as f: \n",
    "            return pickle.load(f) \n",
    "    except FileNotFoundError: \n",
    "        print(\"File not found!\") \n",
    "\n",
    "#function to display song\n",
    "def play_song(track_id):\n",
    "    return IFrame(src=\"https://open.spotify.com/embed/track/\"+track_id,\n",
    "       width=\"320\",\n",
    "       height=\"80\",\n",
    "       frameborder=\"0\",\n",
    "       allowtransparency=\"true\",\n",
    "       allow=\"encrypted-media\",\n",
    "      )\n",
    "\n",
    "favorite_song = input(\"Please enter your favorite song:\\n\\n\").lower()\n",
    "\n",
    "# If there is an exact match (0 typos) between input song and a song in the hot100 , display another one randommly from that 100hot list\n",
    "exact_match = hot100_df[hot100_df[\"Title\"].str.lower() == favorite_song]\n",
    "if not exact_match.empty: #The if not exact_match.empty condition checks if the DataFrame exact_match is not empty.\n",
    "    rec_song = random.choice(hot100_df[\"Title\"])\n",
    "    results_for_users= sp.search(q=rec_song)\n",
    "    track_id = results_for_users[\"tracks\"][\"items\"][0][\"id\"]\n",
    "    print(f\"\\n\\nAmazing tune! It is in our 100 Hot Songs of the year list.\\n You would also like listening to this other hit: \\n\\n \")\n",
    "    display(play_song(track_id))\n",
    "\n",
    "# Check for a close match if there's a typo\n",
    "else:\n",
    "    closest_match = get_closest_match(favorite_song, hot100_df[\"Title\"].str.lower().values)\n",
    "    if closest_match:\n",
    "        potential_matches = hot100_df[hot100_df[\"Title\"].str.lower() == closest_match]\n",
    "        if not potential_matches.empty:\n",
    "            print(f\"\\n\\nDid you mean '{closest_match}'?\")\n",
    "            print(\"Here are some potential matches with different authors:\")\n",
    "            for idx, (index, row) in enumerate(potential_matches.iterrows(), start=1): #printing index of the nº of results found\n",
    "                print(f\"{idx}. {row['Title']} by {row['Artist']}\")\n",
    "\n",
    "            user_choice = input(\"\\n\\nEnter the number of the song you meant, or enter 'N' if none of them:\\n\")\n",
    "            #to check if user inputs consists of digits (bolean result) only AND is between 1 and length of potential_matches found\n",
    "            if user_choice.isdigit() and 1 <= int(user_choice) <= len(potential_matches):\n",
    "                rec_song = random.choice(hot100_df[\"Title\"])\n",
    "                results_for_users= sp.search(q=rec_song)\n",
    "                track_id = results_for_users[\"tracks\"][\"items\"][0][\"id\"]\n",
    "                print(f\"\\n\\nCool song!\\n\\n Try listening to this other hit.\\n You might like it.\\n\\n\")\n",
    "                display(play_song(track_id))\n",
    "\n",
    "            else:\n",
    "                print(\"Okay, no worries! If you have another song in mind, feel free to enter it.\")\n",
    "        else:\n",
    "            print(f\"Unfortunately, no matching songs were found in our top 100 list!\\n\")\n",
    "    else:\n",
    "        print(f\"\\n\\nUnfortunately, that song is not currently in our top 100 list.\\n\\n I can still recommend something you might like.\\n\")\n",
    "        #looking for the acustic features of the song input by user, I need to first get the id\n",
    "        fs_details = sp.search(favorite_song)\n",
    "        id = fs_details['tracks']['items'][0]['id']\n",
    "        \n",
    "        #instead of looping over them - too many requests and get timeout by spotify - do this:\n",
    "        fs_features = sp.audio_features(id)[0]\n",
    "        inputfs_df = pd.DataFrame(fs_features, index=[0], columns = cleaned_df.columns)\n",
    "        \n",
    "        scaler= load(filename=\"scaler_model_songrecommender.pickle\")\n",
    "        scaler_final = scaler.transform(inputfs_df)\n",
    "        scaled_df = pd.DataFrame(scaler_final, columns = cleaned_df.columns)\n",
    "        kmeans= load(filename=\"ModelSongRecommender.pickle\")\n",
    "        cluster_favsong = kmeans.predict(scaled_df)\n",
    "        \n",
    "        clustered_df_filtered = clustered_df[clustered_df[\"cluster\"] == cluster_favsong[0]]\n",
    "        \n",
    "        if not clustered_df_filtered.empty:\n",
    "            rec_song = random.choice(clustered_df_filtered.index)\n",
    "            results_for_users = sp.search(q=rec_song)\n",
    "            track_id = results_for_users[\"tracks\"][\"items\"][0][\"id\"]\n",
    "            print(\"\\n\\n What do you think about this other hit: \\n\\n\")\n",
    "            display(play_song(track_id))\n",
    "            \n",
    "        else:\n",
    "            print(\"No matching songs found!\")\n",
    "\n"
   ]
  },
  {
   "cell_type": "code",
   "execution_count": null,
   "id": "03e23dcf-d1ce-46a1-b983-d4d5da811efa",
   "metadata": {},
   "outputs": [],
   "source": []
  }
 ],
 "metadata": {
  "kernelspec": {
   "display_name": "Python 3 (ipykernel)",
   "language": "python",
   "name": "python3"
  },
  "language_info": {
   "codemirror_mode": {
    "name": "ipython",
    "version": 3
   },
   "file_extension": ".py",
   "mimetype": "text/x-python",
   "name": "python",
   "nbconvert_exporter": "python",
   "pygments_lexer": "ipython3",
   "version": "3.8.18"
  }
 },
 "nbformat": 4,
 "nbformat_minor": 5
}
